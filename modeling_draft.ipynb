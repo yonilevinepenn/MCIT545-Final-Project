{
 "cells": [
  {
   "cell_type": "code",
   "execution_count": 8,
   "metadata": {},
   "outputs": [],
   "source": [
    "# imports\n",
    "import numpy as np\n",
    "import pandas as pd \n",
    "import pickle\n",
    "from sklearn.feature_extraction.text import CountVectorizer, HashingVectorizer, TfidfVectorizer, TfidfTransformer\n",
    "from sklearn import metrics\n",
    "from sklearn.naive_bayes import MultinomialNB, BernoulliNB, GaussianNB\n",
    "from sklearn.model_selection import train_test_split, cross_val_score, GridSearchCV\n",
    "from sklearn.metrics import classification_report,confusion_matrix\n",
    "from sklearn.pipeline import Pipeline\n",
    "from sklearn.linear_model import LogisticRegression\n",
    "from sklearn.ensemble import RandomForestClassifier\n",
    "from sklearn.svm import SVC\n",
    "from sklearn.preprocessing import StandardScaler\n",
    "from sklearn.metrics import precision_score, recall_score, f1_score"
   ]
  },
  {
   "cell_type": "code",
   "execution_count": 4,
   "metadata": {},
   "outputs": [],
   "source": [
    "df = pd.read_csv('https://www.dropbox.com/s/inkzg6vb5cnnz5c/modeling.csv?dl=1')\n",
    "dfsw = pd.read_csv('https://www.dropbox.com/s/ye1qsevhhmat9kx/modeling_with_stopwords.csv?dl=1')\n",
    "df = df.rename(columns = {'posts':'posts_from_user','suicidal':'user_is_suicidal'})\n",
    "dfsw = dfsw.rename(columns = {'posts':'posts_from_user','suicidal':'user_is_suicidal'})"
   ]
  },
  {
   "cell_type": "code",
   "execution_count": 7,
   "metadata": {},
   "outputs": [
    {
     "data": {
      "text/html": [
       "<div>\n",
       "<style scoped>\n",
       "    .dataframe tbody tr th:only-of-type {\n",
       "        vertical-align: middle;\n",
       "    }\n",
       "\n",
       "    .dataframe tbody tr th {\n",
       "        vertical-align: top;\n",
       "    }\n",
       "\n",
       "    .dataframe thead th {\n",
       "        text-align: right;\n",
       "    }\n",
       "</style>\n",
       "<table border=\"1\" class=\"dataframe\">\n",
       "  <thead>\n",
       "    <tr style=\"text-align: right;\">\n",
       "      <th></th>\n",
       "      <th>text</th>\n",
       "      <th>posts_from_user</th>\n",
       "      <th>word_count</th>\n",
       "      <th>day_of_week</th>\n",
       "      <th>SPACE__SP</th>\n",
       "      <th>AUX_VBP</th>\n",
       "      <th>PRON_PRP</th>\n",
       "      <th>ADV_RB</th>\n",
       "      <th>VERB_VB</th>\n",
       "      <th>SCONJ_IN</th>\n",
       "      <th>...</th>\n",
       "      <th>AUX_:</th>\n",
       "      <th>AUX_-LRB-</th>\n",
       "      <th>VERB_NNS</th>\n",
       "      <th>AUX_HYPH</th>\n",
       "      <th>AUX_PRP</th>\n",
       "      <th>ADV_CC</th>\n",
       "      <th>AUX_.</th>\n",
       "      <th>AUX_XX</th>\n",
       "      <th>AUX_WRB</th>\n",
       "      <th>user_is_suicidal</th>\n",
       "    </tr>\n",
       "  </thead>\n",
       "  <tbody>\n",
       "    <tr>\n",
       "      <th>0</th>\n",
       "      <td>ever feel like everyone watch start overthink ...</td>\n",
       "      <td>8</td>\n",
       "      <td>400</td>\n",
       "      <td>2</td>\n",
       "      <td>4.76</td>\n",
       "      <td>2.75</td>\n",
       "      <td>11.36</td>\n",
       "      <td>3.66</td>\n",
       "      <td>6.59</td>\n",
       "      <td>3.30</td>\n",
       "      <td>...</td>\n",
       "      <td>0.0</td>\n",
       "      <td>0.0</td>\n",
       "      <td>0.0</td>\n",
       "      <td>0.0</td>\n",
       "      <td>0.0</td>\n",
       "      <td>0.0</td>\n",
       "      <td>0.0</td>\n",
       "      <td>0.0</td>\n",
       "      <td>0.0</td>\n",
       "      <td>0</td>\n",
       "    </tr>\n",
       "    <tr>\n",
       "      <th>1</th>\n",
       "      <td>compare people hate make feel like you re enou...</td>\n",
       "      <td>8</td>\n",
       "      <td>427</td>\n",
       "      <td>4</td>\n",
       "      <td>5.91</td>\n",
       "      <td>1.39</td>\n",
       "      <td>10.43</td>\n",
       "      <td>5.22</td>\n",
       "      <td>6.78</td>\n",
       "      <td>2.96</td>\n",
       "      <td>...</td>\n",
       "      <td>0.0</td>\n",
       "      <td>0.0</td>\n",
       "      <td>0.0</td>\n",
       "      <td>0.0</td>\n",
       "      <td>0.0</td>\n",
       "      <td>0.0</td>\n",
       "      <td>0.0</td>\n",
       "      <td>0.0</td>\n",
       "      <td>0.0</td>\n",
       "      <td>0</td>\n",
       "    </tr>\n",
       "    <tr>\n",
       "      <th>2</th>\n",
       "      <td>find apologize time even thing be not really f...</td>\n",
       "      <td>8</td>\n",
       "      <td>379</td>\n",
       "      <td>4</td>\n",
       "      <td>5.11</td>\n",
       "      <td>2.46</td>\n",
       "      <td>10.80</td>\n",
       "      <td>3.60</td>\n",
       "      <td>6.06</td>\n",
       "      <td>0.76</td>\n",
       "      <td>...</td>\n",
       "      <td>0.0</td>\n",
       "      <td>0.0</td>\n",
       "      <td>0.0</td>\n",
       "      <td>0.0</td>\n",
       "      <td>0.0</td>\n",
       "      <td>0.0</td>\n",
       "      <td>0.0</td>\n",
       "      <td>0.0</td>\n",
       "      <td>0.0</td>\n",
       "      <td>0</td>\n",
       "    </tr>\n",
       "    <tr>\n",
       "      <th>3</th>\n",
       "      <td>read understand free soul today ill talk anoth...</td>\n",
       "      <td>8</td>\n",
       "      <td>377</td>\n",
       "      <td>2</td>\n",
       "      <td>5.59</td>\n",
       "      <td>1.12</td>\n",
       "      <td>6.15</td>\n",
       "      <td>3.35</td>\n",
       "      <td>3.35</td>\n",
       "      <td>1.68</td>\n",
       "      <td>...</td>\n",
       "      <td>0.0</td>\n",
       "      <td>0.0</td>\n",
       "      <td>0.0</td>\n",
       "      <td>0.0</td>\n",
       "      <td>0.0</td>\n",
       "      <td>0.0</td>\n",
       "      <td>0.0</td>\n",
       "      <td>0.0</td>\n",
       "      <td>0.0</td>\n",
       "      <td>0</td>\n",
       "    </tr>\n",
       "    <tr>\n",
       "      <th>4</th>\n",
       "      <td>be not little bit tired people tell think posi...</td>\n",
       "      <td>8</td>\n",
       "      <td>467</td>\n",
       "      <td>2</td>\n",
       "      <td>4.57</td>\n",
       "      <td>1.47</td>\n",
       "      <td>8.65</td>\n",
       "      <td>5.22</td>\n",
       "      <td>7.01</td>\n",
       "      <td>1.96</td>\n",
       "      <td>...</td>\n",
       "      <td>0.0</td>\n",
       "      <td>0.0</td>\n",
       "      <td>0.0</td>\n",
       "      <td>0.0</td>\n",
       "      <td>0.0</td>\n",
       "      <td>0.0</td>\n",
       "      <td>0.0</td>\n",
       "      <td>0.0</td>\n",
       "      <td>0.0</td>\n",
       "      <td>0</td>\n",
       "    </tr>\n",
       "  </tbody>\n",
       "</table>\n",
       "<p>5 rows × 95 columns</p>\n",
       "</div>"
      ],
      "text/plain": [
       "                                                text  posts_from_user  \\\n",
       "0  ever feel like everyone watch start overthink ...                8   \n",
       "1  compare people hate make feel like you re enou...                8   \n",
       "2  find apologize time even thing be not really f...                8   \n",
       "3  read understand free soul today ill talk anoth...                8   \n",
       "4  be not little bit tired people tell think posi...                8   \n",
       "\n",
       "   word_count  day_of_week  SPACE__SP  AUX_VBP  PRON_PRP  ADV_RB  VERB_VB  \\\n",
       "0         400            2       4.76     2.75     11.36    3.66     6.59   \n",
       "1         427            4       5.91     1.39     10.43    5.22     6.78   \n",
       "2         379            4       5.11     2.46     10.80    3.60     6.06   \n",
       "3         377            2       5.59     1.12      6.15    3.35     3.35   \n",
       "4         467            2       4.57     1.47      8.65    5.22     7.01   \n",
       "\n",
       "   SCONJ_IN  ...  AUX_:  AUX_-LRB-  VERB_NNS  AUX_HYPH  AUX_PRP  ADV_CC  \\\n",
       "0      3.30  ...    0.0        0.0       0.0       0.0      0.0     0.0   \n",
       "1      2.96  ...    0.0        0.0       0.0       0.0      0.0     0.0   \n",
       "2      0.76  ...    0.0        0.0       0.0       0.0      0.0     0.0   \n",
       "3      1.68  ...    0.0        0.0       0.0       0.0      0.0     0.0   \n",
       "4      1.96  ...    0.0        0.0       0.0       0.0      0.0     0.0   \n",
       "\n",
       "   AUX_.  AUX_XX  AUX_WRB  user_is_suicidal  \n",
       "0    0.0     0.0      0.0                 0  \n",
       "1    0.0     0.0      0.0                 0  \n",
       "2    0.0     0.0      0.0                 0  \n",
       "3    0.0     0.0      0.0                 0  \n",
       "4    0.0     0.0      0.0                 0  \n",
       "\n",
       "[5 rows x 95 columns]"
      ]
     },
     "execution_count": 7,
     "metadata": {},
     "output_type": "execute_result"
    }
   ],
   "source": [
    "df.head()"
   ]
  },
  {
   "cell_type": "code",
   "execution_count": 8,
   "metadata": {},
   "outputs": [
    {
     "data": {
      "text/plain": [
       "text                0\n",
       "posts_from_user     0\n",
       "word_count          0\n",
       "day_of_week         0\n",
       "SPACE__SP           0\n",
       "                   ..\n",
       "ADV_CC              0\n",
       "AUX_.               0\n",
       "AUX_XX              0\n",
       "AUX_WRB             0\n",
       "user_is_suicidal    0\n",
       "Length: 95, dtype: int64"
      ]
     },
     "execution_count": 8,
     "metadata": {},
     "output_type": "execute_result"
    }
   ],
   "source": [
    "df.isna().sum()"
   ]
  },
  {
   "cell_type": "code",
   "execution_count": 5,
   "metadata": {},
   "outputs": [],
   "source": [
    "\n",
    "\n",
    "def modeling_df(df,v_type='tfidf',min_ngram = 1, max_ngram = 3, scale = True, join = True):\n",
    "\n",
    "    train, test = train_test_split(df,stratify=df['user_is_suicidal'],test_size=.3, random_state=42)\n",
    "    # if scale:\n",
    "    #     scaler = StandardScaler()\n",
    "    #     scaler.fit_transform(train)\n",
    "    #     scaler.transform(test)\n",
    "    print(train['user_is_suicidal'].unique())\n",
    "    print(test['user_is_suicidal'].unique())\n",
    "    if v_type == 'tfidf':\n",
    "        vectorizer = TfidfVectorizer(min_df=50, max_df=.60, ngram_range=(min_ngram,max_ngram))\n",
    "    elif v_type == 'count':\n",
    "        vectorizer = CountVectorizer(min_df=50, max_df=.60, ngram_range=(min_ngram,max_ngram))\n",
    "    else:\n",
    "        raise Exception(\"v_type must be 'tfidf' or 'count'\")\n",
    "    text_matrix = vectorizer.fit_transform(train['text'])\n",
    "    word_features = pd.DataFrame(text_matrix.toarray(),columns = vectorizer.get_feature_names()).reset_index(drop=True)\n",
    "    print(word_features.shape)\n",
    "    if join:\n",
    "        other_features = train.iloc[:, 1:].reset_index(drop=True)\n",
    "        modeling_features = word_features.join(other_features)\n",
    "    else:\n",
    "        modeling_features = word_features\n",
    "    test_text_matrix = vectorizer.transform(test['text'])\n",
    "    test_word_features = pd.DataFrame(test_text_matrix.toarray(),columns = vectorizer.get_feature_names()).reset_index(drop=True)\n",
    "    if join:\n",
    "        test_other_features = test.iloc[:, 1:].reset_index(drop=True)\n",
    "        test_modeling_features = test_word_features.join(test_other_features)\n",
    "    else:\n",
    "        test_modeling_features = test_word_features\n",
    "    if join:\n",
    "        X_train, y_train, X_test, y_test = modeling_features.iloc[:, :-1], modeling_features.iloc[:, -1], test_modeling_features.iloc[:, :-1],test_modeling_features.iloc[:, -1]\n",
    "    else:\n",
    "        print('not join')\n",
    "        X_train, y_train, X_test, y_test = modeling_features, train['user_is_suicidal'],  test_modeling_features, test['user_is_suicidal']\n",
    "    print(y_train.unique(),y_test.unique())\n",
    "    if scale:\n",
    "        scaler = StandardScaler()\n",
    "        scaler.fit(X_train)\n",
    "        X_train = pd.DataFrame(scaler.transform(X_train),columns= X_train.columns)\n",
    "        X_test = pd.DataFrame(scaler.transform(X_test),columns= X_test.columns)\n",
    "    return X_train, y_train, X_test, y_test \n"
   ]
  },
  {
   "cell_type": "markdown",
   "metadata": {},
   "source": [
    "# Count Vectorizor With Logistic Regression"
   ]
  },
  {
   "cell_type": "code",
   "execution_count": 7,
   "metadata": {},
   "outputs": [
    {
     "name": "stdout",
     "output_type": "stream",
     "text": [
      "[1 0]\n",
      "[1 0]\n",
      "(13405, 13528)\n",
      "[1 0] [1 0]\n"
     ]
    },
    {
     "name": "stderr",
     "output_type": "stream",
     "text": [
      "/Users/farhad/opt/anaconda3/lib/python3.9/site-packages/sklearn/linear_model/_sag.py:328: ConvergenceWarning: The max_iter was reached which means the coef_ did not converge\n",
      "  warnings.warn(\"The max_iter was reached which means \"\n"
     ]
    },
    {
     "name": "stdout",
     "output_type": "stream",
     "text": [
      "              precision    recall  f1-score   support\n",
      "\n",
      "           0       0.68      0.93      0.79      2749\n",
      "           1       0.90      0.60      0.72      2996\n",
      "\n",
      "    accuracy                           0.76      5745\n",
      "   macro avg       0.79      0.77      0.75      5745\n",
      "weighted avg       0.80      0.76      0.75      5745\n",
      "\n",
      "Precision score: 0.9033066132264529\n",
      "Recall score: 0.6018024032042724\n",
      "F1 score: 0.7223557692307692\n"
     ]
    }
   ],
   "source": [
    "X_train, y_train, X_test, y_test = modeling_df(df=dfsw, v_type ='count',scale = False)\n",
    "clf = LogisticRegression(random_state=42, solver='saga').fit(X_train, y_train)\n",
    "predictions = clf.predict(X_test)\n",
    "print(classification_report(y_test, predictions))\n",
    "print(\"Precision score: {}\".format(precision_score(y_test, predictions)))\n",
    "print(\"Recall score: {}\".format(recall_score(y_test, predictions)))\n",
    "print(\"F1 score: {}\".format(f1_score(y_test, predictions)))"
   ]
  },
  {
   "cell_type": "markdown",
   "metadata": {},
   "source": [
    "0.7226452905811623"
   ]
  },
  {
   "cell_type": "code",
   "execution_count": 8,
   "metadata": {},
   "outputs": [
    {
     "name": "stdout",
     "output_type": "stream",
     "text": [
      "[1 0]\n",
      "[1 0]\n",
      "(13405, 13528)\n",
      "[1 0] [1 0]\n",
      "              precision    recall  f1-score   support\n",
      "\n",
      "           0       0.70      0.65      0.67      2749\n",
      "           1       0.70      0.74      0.72      2996\n",
      "\n",
      "    accuracy                           0.70      5745\n",
      "   macro avg       0.70      0.70      0.70      5745\n",
      "weighted avg       0.70      0.70      0.70      5745\n",
      "\n",
      "Precision score: 0.69717868338558\n",
      "Recall score: 0.7423230974632844\n",
      "F1 score: 0.7190430003233107\n"
     ]
    },
    {
     "name": "stderr",
     "output_type": "stream",
     "text": [
      "/Users/farhad/opt/anaconda3/lib/python3.9/site-packages/sklearn/linear_model/_sag.py:328: ConvergenceWarning: The max_iter was reached which means the coef_ did not converge\n",
      "  warnings.warn(\"The max_iter was reached which means \"\n"
     ]
    }
   ],
   "source": [
    "X_train, y_train, X_test, y_test = modeling_df(df=dfsw, v_type ='count',scale = True)\n",
    "clf = LogisticRegression(random_state=42, solver='saga').fit(X_train, y_train)\n",
    "predictions = clf.predict(X_test)\n",
    "print(classification_report(y_test, predictions))\n",
    "print(\"Precision score: {}\".format(precision_score(y_test, predictions)))\n",
    "print(\"Recall score: {}\".format(recall_score(y_test, predictions)))\n",
    "print(\"F1 score: {}\".format(f1_score(y_test, predictions)))"
   ]
  },
  {
   "cell_type": "markdown",
   "metadata": {},
   "source": [
    "0.7144243208279432"
   ]
  },
  {
   "cell_type": "code",
   "execution_count": 9,
   "metadata": {},
   "outputs": [
    {
     "name": "stdout",
     "output_type": "stream",
     "text": [
      "[1 0]\n",
      "[1 0]\n",
      "(13405, 13528)\n",
      "[1 0] [1 0]\n"
     ]
    },
    {
     "name": "stderr",
     "output_type": "stream",
     "text": [
      "/Users/farhad/opt/anaconda3/lib/python3.9/site-packages/sklearn/linear_model/_sag.py:328: ConvergenceWarning: The max_iter was reached which means the coef_ did not converge\n",
      "  warnings.warn(\"The max_iter was reached which means \"\n"
     ]
    },
    {
     "name": "stdout",
     "output_type": "stream",
     "text": [
      "              precision    recall  f1-score   support\n",
      "\n",
      "           0       0.68      0.93      0.79      2749\n",
      "           1       0.90      0.60      0.72      2996\n",
      "\n",
      "    accuracy                           0.76      5745\n",
      "   macro avg       0.79      0.77      0.76      5745\n",
      "weighted avg       0.80      0.76      0.75      5745\n",
      "\n",
      "Precision score: 0.9042606516290727\n",
      "Recall score: 0.6021361815754339\n",
      "F1 score: 0.7229012221999599\n"
     ]
    }
   ],
   "source": [
    "X_train, y_train, X_test, y_test = modeling_df(df=dfsw, v_type ='tfidf',scale = False)\n",
    "clf = LogisticRegression(random_state=42, solver='saga').fit(X_train, y_train)\n",
    "predictions = clf.predict(X_test)\n",
    "print(classification_report(y_test, predictions))\n",
    "print(\"Precision score: {}\".format(precision_score(y_test, predictions)))\n",
    "print(\"Recall score: {}\".format(recall_score(y_test, predictions)))\n",
    "print(\"F1 score: {}\".format(f1_score(y_test, predictions)))"
   ]
  },
  {
   "cell_type": "markdown",
   "metadata": {},
   "source": [
    "0.7229012221999599"
   ]
  },
  {
   "cell_type": "code",
   "execution_count": 10,
   "metadata": {},
   "outputs": [
    {
     "name": "stdout",
     "output_type": "stream",
     "text": [
      "[1 0]\n",
      "[1 0]\n",
      "(13405, 13528)\n",
      "not join\n",
      "[1 0] [1 0]\n",
      "(13405, 13528)\n"
     ]
    },
    {
     "name": "stderr",
     "output_type": "stream",
     "text": [
      "/Users/farhad/opt/anaconda3/lib/python3.9/site-packages/sklearn/linear_model/_sag.py:328: ConvergenceWarning: The max_iter was reached which means the coef_ did not converge\n",
      "  warnings.warn(\"The max_iter was reached which means \"\n"
     ]
    },
    {
     "name": "stdout",
     "output_type": "stream",
     "text": [
      "              precision    recall  f1-score   support\n",
      "\n",
      "           0       0.74      0.63      0.68      2749\n",
      "           1       0.70      0.80      0.75      2996\n",
      "\n",
      "    accuracy                           0.72      5745\n",
      "   macro avg       0.72      0.71      0.71      5745\n",
      "weighted avg       0.72      0.72      0.72      5745\n",
      "\n",
      "Precision score: 0.7016720445878557\n",
      "Recall score: 0.7983978638184246\n",
      "F1 score: 0.7469164715066354\n"
     ]
    }
   ],
   "source": [
    "X_train, y_train, X_test, y_test = modeling_df(df=dfsw, v_type ='count',scale = False, join=False)\n",
    "print(X_train.shape)\n",
    "clf = LogisticRegression(random_state=42, solver='saga').fit(X_train, y_train)\n",
    "predictions = clf.predict(X_test)\n",
    "print(classification_report(y_test, predictions))\n",
    "print(\"Precision score: {}\".format(precision_score(y_test, predictions)))\n",
    "print(\"Recall score: {}\".format(recall_score(y_test, predictions)))\n",
    "print(\"F1 score: {}\".format(f1_score(y_test, predictions)))"
   ]
  },
  {
   "cell_type": "markdown",
   "metadata": {},
   "source": [
    "0.7347765145615949"
   ]
  },
  {
   "cell_type": "code",
   "execution_count": 11,
   "metadata": {},
   "outputs": [
    {
     "name": "stdout",
     "output_type": "stream",
     "text": [
      "[1 0]\n",
      "[1 0]\n",
      "(13405, 13528)\n",
      "not join\n",
      "[1 0] [1 0]\n",
      "              precision    recall  f1-score   support\n",
      "\n",
      "           0       0.69      0.62      0.65      2749\n",
      "           1       0.68      0.75      0.71      2996\n",
      "\n",
      "    accuracy                           0.69      5745\n",
      "   macro avg       0.69      0.68      0.68      5745\n",
      "weighted avg       0.69      0.69      0.68      5745\n",
      "\n",
      "Precision score: 0.68134872417983\n",
      "Recall score: 0.7486648865153538\n",
      "F1 score: 0.7134223918575064\n"
     ]
    },
    {
     "name": "stderr",
     "output_type": "stream",
     "text": [
      "/Users/farhad/opt/anaconda3/lib/python3.9/site-packages/sklearn/linear_model/_sag.py:328: ConvergenceWarning: The max_iter was reached which means the coef_ did not converge\n",
      "  warnings.warn(\"The max_iter was reached which means \"\n"
     ]
    }
   ],
   "source": [
    "X_train, y_train, X_test, y_test = modeling_df(df=dfsw, v_type ='count',scale = True, join=False)\n",
    "clf = LogisticRegression(random_state=42, solver='saga').fit(X_train, y_train)\n",
    "predictions = clf.predict(X_test)\n",
    "print(classification_report(y_test, predictions))\n",
    "print(\"Precision score: {}\".format(precision_score(y_test, predictions)))\n",
    "print(\"Recall score: {}\".format(recall_score(y_test, predictions)))\n",
    "print(\"F1 score: {}\".format(f1_score(y_test, predictions)))"
   ]
  },
  {
   "cell_type": "markdown",
   "metadata": {},
   "source": [
    "F1 score: 0.7023657289002557\n"
   ]
  },
  {
   "cell_type": "code",
   "execution_count": 12,
   "metadata": {},
   "outputs": [
    {
     "name": "stdout",
     "output_type": "stream",
     "text": [
      "[1 0]\n",
      "[1 0]\n",
      "(13405, 13528)\n",
      "not join\n",
      "[1 0] [1 0]\n",
      "(13405, 13528)\n",
      "              precision    recall  f1-score   support\n",
      "\n",
      "           0       0.73      0.66      0.70      2749\n",
      "           1       0.72      0.78      0.74      2996\n",
      "\n",
      "    accuracy                           0.72      5745\n",
      "   macro avg       0.72      0.72      0.72      5745\n",
      "weighted avg       0.72      0.72      0.72      5745\n",
      "\n",
      "Precision score: 0.7154721624115656\n",
      "Recall score: 0.7763684913217623\n",
      "F1 score: 0.7446774451736834\n"
     ]
    }
   ],
   "source": [
    "X_train, y_train, X_test, y_test = modeling_df(df=dfsw, v_type ='tfidf',scale = False, join=False)\n",
    "print(X_train.shape)\n",
    "clf = LogisticRegression(random_state=42, solver='saga').fit(X_train, y_train)\n",
    "predictions = clf.predict(X_test)\n",
    "print(classification_report(y_test, predictions))\n",
    "print(\"Precision score: {}\".format(precision_score(y_test, predictions)))\n",
    "print(\"Recall score: {}\".format(recall_score(y_test, predictions)))\n",
    "print(\"F1 score: {}\".format(f1_score(y_test, predictions)))"
   ]
  },
  {
   "cell_type": "code",
   "execution_count": 6,
   "metadata": {},
   "outputs": [
    {
     "name": "stdout",
     "output_type": "stream",
     "text": [
      "[1 0]\n",
      "[1 0]\n",
      "(13405, 13528)\n",
      "[1 0] [1 0]\n"
     ]
    },
    {
     "name": "stderr",
     "output_type": "stream",
     "text": [
      "/Users/farhad/opt/anaconda3/lib/python3.9/site-packages/sklearn/model_selection/_validation.py:615: FitFailedWarning: Estimator fit failed. The score on this train-test partition for these parameters will be set to nan. Details: \n",
      "Traceback (most recent call last):\n",
      "  File \"/Users/farhad/opt/anaconda3/lib/python3.9/site-packages/sklearn/model_selection/_validation.py\", line 598, in _fit_and_score\n",
      "    estimator.fit(X_train, y_train, **fit_params)\n",
      "  File \"/Users/farhad/opt/anaconda3/lib/python3.9/site-packages/sklearn/linear_model/_logistic.py\", line 1314, in fit\n",
      "    raise ValueError(\"l1_ratio must be between 0 and 1;\"\n",
      "ValueError: l1_ratio must be between 0 and 1; got (l1_ratio=None)\n",
      "\n",
      "  warnings.warn(\"Estimator fit failed. The score on this train-test\"\n",
      "/Users/farhad/opt/anaconda3/lib/python3.9/site-packages/sklearn/model_selection/_validation.py:615: FitFailedWarning: Estimator fit failed. The score on this train-test partition for these parameters will be set to nan. Details: \n",
      "Traceback (most recent call last):\n",
      "  File \"/Users/farhad/opt/anaconda3/lib/python3.9/site-packages/sklearn/model_selection/_validation.py\", line 598, in _fit_and_score\n",
      "    estimator.fit(X_train, y_train, **fit_params)\n",
      "  File \"/Users/farhad/opt/anaconda3/lib/python3.9/site-packages/sklearn/linear_model/_logistic.py\", line 1314, in fit\n",
      "    raise ValueError(\"l1_ratio must be between 0 and 1;\"\n",
      "ValueError: l1_ratio must be between 0 and 1; got (l1_ratio=None)\n",
      "\n",
      "  warnings.warn(\"Estimator fit failed. The score on this train-test\"\n",
      "/Users/farhad/opt/anaconda3/lib/python3.9/site-packages/sklearn/model_selection/_validation.py:615: FitFailedWarning: Estimator fit failed. The score on this train-test partition for these parameters will be set to nan. Details: \n",
      "Traceback (most recent call last):\n",
      "  File \"/Users/farhad/opt/anaconda3/lib/python3.9/site-packages/sklearn/model_selection/_validation.py\", line 598, in _fit_and_score\n",
      "    estimator.fit(X_train, y_train, **fit_params)\n",
      "  File \"/Users/farhad/opt/anaconda3/lib/python3.9/site-packages/sklearn/linear_model/_logistic.py\", line 1314, in fit\n",
      "    raise ValueError(\"l1_ratio must be between 0 and 1;\"\n",
      "ValueError: l1_ratio must be between 0 and 1; got (l1_ratio=None)\n",
      "\n",
      "  warnings.warn(\"Estimator fit failed. The score on this train-test\"\n",
      "/Users/farhad/opt/anaconda3/lib/python3.9/site-packages/sklearn/model_selection/_validation.py:615: FitFailedWarning: Estimator fit failed. The score on this train-test partition for these parameters will be set to nan. Details: \n",
      "Traceback (most recent call last):\n",
      "  File \"/Users/farhad/opt/anaconda3/lib/python3.9/site-packages/sklearn/model_selection/_validation.py\", line 598, in _fit_and_score\n",
      "    estimator.fit(X_train, y_train, **fit_params)\n",
      "  File \"/Users/farhad/opt/anaconda3/lib/python3.9/site-packages/sklearn/linear_model/_logistic.py\", line 1314, in fit\n",
      "    raise ValueError(\"l1_ratio must be between 0 and 1;\"\n",
      "ValueError: l1_ratio must be between 0 and 1; got (l1_ratio=None)\n",
      "\n",
      "  warnings.warn(\"Estimator fit failed. The score on this train-test\"\n",
      "/Users/farhad/opt/anaconda3/lib/python3.9/site-packages/sklearn/model_selection/_validation.py:615: FitFailedWarning: Estimator fit failed. The score on this train-test partition for these parameters will be set to nan. Details: \n",
      "Traceback (most recent call last):\n",
      "  File \"/Users/farhad/opt/anaconda3/lib/python3.9/site-packages/sklearn/model_selection/_validation.py\", line 598, in _fit_and_score\n",
      "    estimator.fit(X_train, y_train, **fit_params)\n",
      "  File \"/Users/farhad/opt/anaconda3/lib/python3.9/site-packages/sklearn/linear_model/_logistic.py\", line 1314, in fit\n",
      "    raise ValueError(\"l1_ratio must be between 0 and 1;\"\n",
      "ValueError: l1_ratio must be between 0 and 1; got (l1_ratio=None)\n",
      "\n",
      "  warnings.warn(\"Estimator fit failed. The score on this train-test\"\n",
      "/Users/farhad/opt/anaconda3/lib/python3.9/site-packages/sklearn/linear_model/_sag.py:328: ConvergenceWarning: The max_iter was reached which means the coef_ did not converge\n",
      "  warnings.warn(\"The max_iter was reached which means \"\n",
      "/Users/farhad/opt/anaconda3/lib/python3.9/site-packages/sklearn/linear_model/_sag.py:328: ConvergenceWarning: The max_iter was reached which means the coef_ did not converge\n",
      "  warnings.warn(\"The max_iter was reached which means \"\n",
      "/Users/farhad/opt/anaconda3/lib/python3.9/site-packages/sklearn/linear_model/_sag.py:328: ConvergenceWarning: The max_iter was reached which means the coef_ did not converge\n",
      "  warnings.warn(\"The max_iter was reached which means \"\n",
      "/Users/farhad/opt/anaconda3/lib/python3.9/site-packages/sklearn/linear_model/_sag.py:328: ConvergenceWarning: The max_iter was reached which means the coef_ did not converge\n",
      "  warnings.warn(\"The max_iter was reached which means \"\n",
      "/Users/farhad/opt/anaconda3/lib/python3.9/site-packages/sklearn/linear_model/_sag.py:328: ConvergenceWarning: The max_iter was reached which means the coef_ did not converge\n",
      "  warnings.warn(\"The max_iter was reached which means \"\n",
      "/Users/farhad/opt/anaconda3/lib/python3.9/site-packages/sklearn/linear_model/_sag.py:328: ConvergenceWarning: The max_iter was reached which means the coef_ did not converge\n",
      "  warnings.warn(\"The max_iter was reached which means \"\n",
      "/Users/farhad/opt/anaconda3/lib/python3.9/site-packages/sklearn/linear_model/_sag.py:328: ConvergenceWarning: The max_iter was reached which means the coef_ did not converge\n",
      "  warnings.warn(\"The max_iter was reached which means \"\n",
      "/Users/farhad/opt/anaconda3/lib/python3.9/site-packages/sklearn/linear_model/_sag.py:328: ConvergenceWarning: The max_iter was reached which means the coef_ did not converge\n",
      "  warnings.warn(\"The max_iter was reached which means \"\n",
      "/Users/farhad/opt/anaconda3/lib/python3.9/site-packages/sklearn/linear_model/_sag.py:328: ConvergenceWarning: The max_iter was reached which means the coef_ did not converge\n",
      "  warnings.warn(\"The max_iter was reached which means \"\n",
      "/Users/farhad/opt/anaconda3/lib/python3.9/site-packages/sklearn/linear_model/_sag.py:328: ConvergenceWarning: The max_iter was reached which means the coef_ did not converge\n",
      "  warnings.warn(\"The max_iter was reached which means \"\n",
      "/Users/farhad/opt/anaconda3/lib/python3.9/site-packages/sklearn/model_selection/_validation.py:615: FitFailedWarning: Estimator fit failed. The score on this train-test partition for these parameters will be set to nan. Details: \n",
      "Traceback (most recent call last):\n",
      "  File \"/Users/farhad/opt/anaconda3/lib/python3.9/site-packages/sklearn/model_selection/_validation.py\", line 598, in _fit_and_score\n",
      "    estimator.fit(X_train, y_train, **fit_params)\n",
      "  File \"/Users/farhad/opt/anaconda3/lib/python3.9/site-packages/sklearn/linear_model/_logistic.py\", line 1314, in fit\n",
      "    raise ValueError(\"l1_ratio must be between 0 and 1;\"\n",
      "ValueError: l1_ratio must be between 0 and 1; got (l1_ratio=None)\n",
      "\n",
      "  warnings.warn(\"Estimator fit failed. The score on this train-test\"\n",
      "/Users/farhad/opt/anaconda3/lib/python3.9/site-packages/sklearn/model_selection/_validation.py:615: FitFailedWarning: Estimator fit failed. The score on this train-test partition for these parameters will be set to nan. Details: \n",
      "Traceback (most recent call last):\n",
      "  File \"/Users/farhad/opt/anaconda3/lib/python3.9/site-packages/sklearn/model_selection/_validation.py\", line 598, in _fit_and_score\n",
      "    estimator.fit(X_train, y_train, **fit_params)\n",
      "  File \"/Users/farhad/opt/anaconda3/lib/python3.9/site-packages/sklearn/linear_model/_logistic.py\", line 1314, in fit\n",
      "    raise ValueError(\"l1_ratio must be between 0 and 1;\"\n",
      "ValueError: l1_ratio must be between 0 and 1; got (l1_ratio=None)\n",
      "\n",
      "  warnings.warn(\"Estimator fit failed. The score on this train-test\"\n",
      "/Users/farhad/opt/anaconda3/lib/python3.9/site-packages/sklearn/model_selection/_validation.py:615: FitFailedWarning: Estimator fit failed. The score on this train-test partition for these parameters will be set to nan. Details: \n",
      "Traceback (most recent call last):\n",
      "  File \"/Users/farhad/opt/anaconda3/lib/python3.9/site-packages/sklearn/model_selection/_validation.py\", line 598, in _fit_and_score\n",
      "    estimator.fit(X_train, y_train, **fit_params)\n",
      "  File \"/Users/farhad/opt/anaconda3/lib/python3.9/site-packages/sklearn/linear_model/_logistic.py\", line 1314, in fit\n",
      "    raise ValueError(\"l1_ratio must be between 0 and 1;\"\n",
      "ValueError: l1_ratio must be between 0 and 1; got (l1_ratio=None)\n",
      "\n",
      "  warnings.warn(\"Estimator fit failed. The score on this train-test\"\n",
      "/Users/farhad/opt/anaconda3/lib/python3.9/site-packages/sklearn/model_selection/_validation.py:615: FitFailedWarning: Estimator fit failed. The score on this train-test partition for these parameters will be set to nan. Details: \n",
      "Traceback (most recent call last):\n",
      "  File \"/Users/farhad/opt/anaconda3/lib/python3.9/site-packages/sklearn/model_selection/_validation.py\", line 598, in _fit_and_score\n",
      "    estimator.fit(X_train, y_train, **fit_params)\n",
      "  File \"/Users/farhad/opt/anaconda3/lib/python3.9/site-packages/sklearn/linear_model/_logistic.py\", line 1314, in fit\n",
      "    raise ValueError(\"l1_ratio must be between 0 and 1;\"\n",
      "ValueError: l1_ratio must be between 0 and 1; got (l1_ratio=None)\n",
      "\n",
      "  warnings.warn(\"Estimator fit failed. The score on this train-test\"\n",
      "/Users/farhad/opt/anaconda3/lib/python3.9/site-packages/sklearn/model_selection/_validation.py:615: FitFailedWarning: Estimator fit failed. The score on this train-test partition for these parameters will be set to nan. Details: \n",
      "Traceback (most recent call last):\n",
      "  File \"/Users/farhad/opt/anaconda3/lib/python3.9/site-packages/sklearn/model_selection/_validation.py\", line 598, in _fit_and_score\n",
      "    estimator.fit(X_train, y_train, **fit_params)\n",
      "  File \"/Users/farhad/opt/anaconda3/lib/python3.9/site-packages/sklearn/linear_model/_logistic.py\", line 1314, in fit\n",
      "    raise ValueError(\"l1_ratio must be between 0 and 1;\"\n",
      "ValueError: l1_ratio must be between 0 and 1; got (l1_ratio=None)\n",
      "\n",
      "  warnings.warn(\"Estimator fit failed. The score on this train-test\"\n",
      "/Users/farhad/opt/anaconda3/lib/python3.9/site-packages/sklearn/linear_model/_sag.py:328: ConvergenceWarning: The max_iter was reached which means the coef_ did not converge\n",
      "  warnings.warn(\"The max_iter was reached which means \"\n",
      "/Users/farhad/opt/anaconda3/lib/python3.9/site-packages/sklearn/linear_model/_sag.py:328: ConvergenceWarning: The max_iter was reached which means the coef_ did not converge\n",
      "  warnings.warn(\"The max_iter was reached which means \"\n",
      "/Users/farhad/opt/anaconda3/lib/python3.9/site-packages/sklearn/linear_model/_sag.py:328: ConvergenceWarning: The max_iter was reached which means the coef_ did not converge\n",
      "  warnings.warn(\"The max_iter was reached which means \"\n",
      "/Users/farhad/opt/anaconda3/lib/python3.9/site-packages/sklearn/linear_model/_sag.py:328: ConvergenceWarning: The max_iter was reached which means the coef_ did not converge\n",
      "  warnings.warn(\"The max_iter was reached which means \"\n",
      "/Users/farhad/opt/anaconda3/lib/python3.9/site-packages/sklearn/linear_model/_sag.py:328: ConvergenceWarning: The max_iter was reached which means the coef_ did not converge\n",
      "  warnings.warn(\"The max_iter was reached which means \"\n",
      "/Users/farhad/opt/anaconda3/lib/python3.9/site-packages/sklearn/linear_model/_sag.py:328: ConvergenceWarning: The max_iter was reached which means the coef_ did not converge\n",
      "  warnings.warn(\"The max_iter was reached which means \"\n",
      "/Users/farhad/opt/anaconda3/lib/python3.9/site-packages/sklearn/linear_model/_sag.py:328: ConvergenceWarning: The max_iter was reached which means the coef_ did not converge\n",
      "  warnings.warn(\"The max_iter was reached which means \"\n",
      "/Users/farhad/opt/anaconda3/lib/python3.9/site-packages/sklearn/linear_model/_sag.py:328: ConvergenceWarning: The max_iter was reached which means the coef_ did not converge\n",
      "  warnings.warn(\"The max_iter was reached which means \"\n",
      "/Users/farhad/opt/anaconda3/lib/python3.9/site-packages/sklearn/linear_model/_sag.py:328: ConvergenceWarning: The max_iter was reached which means the coef_ did not converge\n",
      "  warnings.warn(\"The max_iter was reached which means \"\n",
      "/Users/farhad/opt/anaconda3/lib/python3.9/site-packages/sklearn/linear_model/_sag.py:328: ConvergenceWarning: The max_iter was reached which means the coef_ did not converge\n",
      "  warnings.warn(\"The max_iter was reached which means \"\n",
      "/Users/farhad/opt/anaconda3/lib/python3.9/site-packages/sklearn/model_selection/_validation.py:615: FitFailedWarning: Estimator fit failed. The score on this train-test partition for these parameters will be set to nan. Details: \n",
      "Traceback (most recent call last):\n",
      "  File \"/Users/farhad/opt/anaconda3/lib/python3.9/site-packages/sklearn/model_selection/_validation.py\", line 598, in _fit_and_score\n",
      "    estimator.fit(X_train, y_train, **fit_params)\n",
      "  File \"/Users/farhad/opt/anaconda3/lib/python3.9/site-packages/sklearn/linear_model/_logistic.py\", line 1314, in fit\n",
      "    raise ValueError(\"l1_ratio must be between 0 and 1;\"\n",
      "ValueError: l1_ratio must be between 0 and 1; got (l1_ratio=None)\n",
      "\n",
      "  warnings.warn(\"Estimator fit failed. The score on this train-test\"\n",
      "/Users/farhad/opt/anaconda3/lib/python3.9/site-packages/sklearn/model_selection/_validation.py:615: FitFailedWarning: Estimator fit failed. The score on this train-test partition for these parameters will be set to nan. Details: \n",
      "Traceback (most recent call last):\n",
      "  File \"/Users/farhad/opt/anaconda3/lib/python3.9/site-packages/sklearn/model_selection/_validation.py\", line 598, in _fit_and_score\n",
      "    estimator.fit(X_train, y_train, **fit_params)\n",
      "  File \"/Users/farhad/opt/anaconda3/lib/python3.9/site-packages/sklearn/linear_model/_logistic.py\", line 1314, in fit\n",
      "    raise ValueError(\"l1_ratio must be between 0 and 1;\"\n",
      "ValueError: l1_ratio must be between 0 and 1; got (l1_ratio=None)\n",
      "\n",
      "  warnings.warn(\"Estimator fit failed. The score on this train-test\"\n",
      "/Users/farhad/opt/anaconda3/lib/python3.9/site-packages/sklearn/model_selection/_validation.py:615: FitFailedWarning: Estimator fit failed. The score on this train-test partition for these parameters will be set to nan. Details: \n",
      "Traceback (most recent call last):\n",
      "  File \"/Users/farhad/opt/anaconda3/lib/python3.9/site-packages/sklearn/model_selection/_validation.py\", line 598, in _fit_and_score\n",
      "    estimator.fit(X_train, y_train, **fit_params)\n",
      "  File \"/Users/farhad/opt/anaconda3/lib/python3.9/site-packages/sklearn/linear_model/_logistic.py\", line 1314, in fit\n",
      "    raise ValueError(\"l1_ratio must be between 0 and 1;\"\n",
      "ValueError: l1_ratio must be between 0 and 1; got (l1_ratio=None)\n",
      "\n",
      "  warnings.warn(\"Estimator fit failed. The score on this train-test\"\n",
      "/Users/farhad/opt/anaconda3/lib/python3.9/site-packages/sklearn/model_selection/_validation.py:615: FitFailedWarning: Estimator fit failed. The score on this train-test partition for these parameters will be set to nan. Details: \n",
      "Traceback (most recent call last):\n",
      "  File \"/Users/farhad/opt/anaconda3/lib/python3.9/site-packages/sklearn/model_selection/_validation.py\", line 598, in _fit_and_score\n",
      "    estimator.fit(X_train, y_train, **fit_params)\n",
      "  File \"/Users/farhad/opt/anaconda3/lib/python3.9/site-packages/sklearn/linear_model/_logistic.py\", line 1314, in fit\n",
      "    raise ValueError(\"l1_ratio must be between 0 and 1;\"\n",
      "ValueError: l1_ratio must be between 0 and 1; got (l1_ratio=None)\n",
      "\n",
      "  warnings.warn(\"Estimator fit failed. The score on this train-test\"\n",
      "/Users/farhad/opt/anaconda3/lib/python3.9/site-packages/sklearn/model_selection/_validation.py:615: FitFailedWarning: Estimator fit failed. The score on this train-test partition for these parameters will be set to nan. Details: \n",
      "Traceback (most recent call last):\n",
      "  File \"/Users/farhad/opt/anaconda3/lib/python3.9/site-packages/sklearn/model_selection/_validation.py\", line 598, in _fit_and_score\n",
      "    estimator.fit(X_train, y_train, **fit_params)\n",
      "  File \"/Users/farhad/opt/anaconda3/lib/python3.9/site-packages/sklearn/linear_model/_logistic.py\", line 1314, in fit\n",
      "    raise ValueError(\"l1_ratio must be between 0 and 1;\"\n",
      "ValueError: l1_ratio must be between 0 and 1; got (l1_ratio=None)\n",
      "\n",
      "  warnings.warn(\"Estimator fit failed. The score on this train-test\"\n",
      "/Users/farhad/opt/anaconda3/lib/python3.9/site-packages/sklearn/linear_model/_sag.py:328: ConvergenceWarning: The max_iter was reached which means the coef_ did not converge\n",
      "  warnings.warn(\"The max_iter was reached which means \"\n",
      "/Users/farhad/opt/anaconda3/lib/python3.9/site-packages/sklearn/linear_model/_sag.py:328: ConvergenceWarning: The max_iter was reached which means the coef_ did not converge\n",
      "  warnings.warn(\"The max_iter was reached which means \"\n",
      "/Users/farhad/opt/anaconda3/lib/python3.9/site-packages/sklearn/linear_model/_sag.py:328: ConvergenceWarning: The max_iter was reached which means the coef_ did not converge\n",
      "  warnings.warn(\"The max_iter was reached which means \"\n",
      "/Users/farhad/opt/anaconda3/lib/python3.9/site-packages/sklearn/linear_model/_sag.py:328: ConvergenceWarning: The max_iter was reached which means the coef_ did not converge\n",
      "  warnings.warn(\"The max_iter was reached which means \"\n",
      "/Users/farhad/opt/anaconda3/lib/python3.9/site-packages/sklearn/linear_model/_sag.py:328: ConvergenceWarning: The max_iter was reached which means the coef_ did not converge\n",
      "  warnings.warn(\"The max_iter was reached which means \"\n",
      "/Users/farhad/opt/anaconda3/lib/python3.9/site-packages/sklearn/linear_model/_sag.py:328: ConvergenceWarning: The max_iter was reached which means the coef_ did not converge\n",
      "  warnings.warn(\"The max_iter was reached which means \"\n",
      "/Users/farhad/opt/anaconda3/lib/python3.9/site-packages/sklearn/linear_model/_sag.py:328: ConvergenceWarning: The max_iter was reached which means the coef_ did not converge\n",
      "  warnings.warn(\"The max_iter was reached which means \"\n",
      "/Users/farhad/opt/anaconda3/lib/python3.9/site-packages/sklearn/linear_model/_sag.py:328: ConvergenceWarning: The max_iter was reached which means the coef_ did not converge\n",
      "  warnings.warn(\"The max_iter was reached which means \"\n",
      "/Users/farhad/opt/anaconda3/lib/python3.9/site-packages/sklearn/linear_model/_sag.py:328: ConvergenceWarning: The max_iter was reached which means the coef_ did not converge\n",
      "  warnings.warn(\"The max_iter was reached which means \"\n",
      "/Users/farhad/opt/anaconda3/lib/python3.9/site-packages/sklearn/linear_model/_sag.py:328: ConvergenceWarning: The max_iter was reached which means the coef_ did not converge\n",
      "  warnings.warn(\"The max_iter was reached which means \"\n",
      "/Users/farhad/opt/anaconda3/lib/python3.9/site-packages/sklearn/model_selection/_validation.py:615: FitFailedWarning: Estimator fit failed. The score on this train-test partition for these parameters will be set to nan. Details: \n",
      "Traceback (most recent call last):\n",
      "  File \"/Users/farhad/opt/anaconda3/lib/python3.9/site-packages/sklearn/model_selection/_validation.py\", line 598, in _fit_and_score\n",
      "    estimator.fit(X_train, y_train, **fit_params)\n",
      "  File \"/Users/farhad/opt/anaconda3/lib/python3.9/site-packages/sklearn/linear_model/_logistic.py\", line 1314, in fit\n",
      "    raise ValueError(\"l1_ratio must be between 0 and 1;\"\n",
      "ValueError: l1_ratio must be between 0 and 1; got (l1_ratio=None)\n",
      "\n",
      "  warnings.warn(\"Estimator fit failed. The score on this train-test\"\n",
      "/Users/farhad/opt/anaconda3/lib/python3.9/site-packages/sklearn/model_selection/_validation.py:615: FitFailedWarning: Estimator fit failed. The score on this train-test partition for these parameters will be set to nan. Details: \n",
      "Traceback (most recent call last):\n",
      "  File \"/Users/farhad/opt/anaconda3/lib/python3.9/site-packages/sklearn/model_selection/_validation.py\", line 598, in _fit_and_score\n",
      "    estimator.fit(X_train, y_train, **fit_params)\n",
      "  File \"/Users/farhad/opt/anaconda3/lib/python3.9/site-packages/sklearn/linear_model/_logistic.py\", line 1314, in fit\n",
      "    raise ValueError(\"l1_ratio must be between 0 and 1;\"\n",
      "ValueError: l1_ratio must be between 0 and 1; got (l1_ratio=None)\n",
      "\n",
      "  warnings.warn(\"Estimator fit failed. The score on this train-test\"\n",
      "/Users/farhad/opt/anaconda3/lib/python3.9/site-packages/sklearn/model_selection/_validation.py:615: FitFailedWarning: Estimator fit failed. The score on this train-test partition for these parameters will be set to nan. Details: \n",
      "Traceback (most recent call last):\n",
      "  File \"/Users/farhad/opt/anaconda3/lib/python3.9/site-packages/sklearn/model_selection/_validation.py\", line 598, in _fit_and_score\n",
      "    estimator.fit(X_train, y_train, **fit_params)\n",
      "  File \"/Users/farhad/opt/anaconda3/lib/python3.9/site-packages/sklearn/linear_model/_logistic.py\", line 1314, in fit\n",
      "    raise ValueError(\"l1_ratio must be between 0 and 1;\"\n",
      "ValueError: l1_ratio must be between 0 and 1; got (l1_ratio=None)\n",
      "\n",
      "  warnings.warn(\"Estimator fit failed. The score on this train-test\"\n",
      "/Users/farhad/opt/anaconda3/lib/python3.9/site-packages/sklearn/model_selection/_validation.py:615: FitFailedWarning: Estimator fit failed. The score on this train-test partition for these parameters will be set to nan. Details: \n",
      "Traceback (most recent call last):\n",
      "  File \"/Users/farhad/opt/anaconda3/lib/python3.9/site-packages/sklearn/model_selection/_validation.py\", line 598, in _fit_and_score\n",
      "    estimator.fit(X_train, y_train, **fit_params)\n",
      "  File \"/Users/farhad/opt/anaconda3/lib/python3.9/site-packages/sklearn/linear_model/_logistic.py\", line 1314, in fit\n",
      "    raise ValueError(\"l1_ratio must be between 0 and 1;\"\n",
      "ValueError: l1_ratio must be between 0 and 1; got (l1_ratio=None)\n",
      "\n",
      "  warnings.warn(\"Estimator fit failed. The score on this train-test\"\n",
      "/Users/farhad/opt/anaconda3/lib/python3.9/site-packages/sklearn/model_selection/_validation.py:615: FitFailedWarning: Estimator fit failed. The score on this train-test partition for these parameters will be set to nan. Details: \n",
      "Traceback (most recent call last):\n",
      "  File \"/Users/farhad/opt/anaconda3/lib/python3.9/site-packages/sklearn/model_selection/_validation.py\", line 598, in _fit_and_score\n",
      "    estimator.fit(X_train, y_train, **fit_params)\n",
      "  File \"/Users/farhad/opt/anaconda3/lib/python3.9/site-packages/sklearn/linear_model/_logistic.py\", line 1314, in fit\n",
      "    raise ValueError(\"l1_ratio must be between 0 and 1;\"\n",
      "ValueError: l1_ratio must be between 0 and 1; got (l1_ratio=None)\n",
      "\n",
      "  warnings.warn(\"Estimator fit failed. The score on this train-test\"\n",
      "/Users/farhad/opt/anaconda3/lib/python3.9/site-packages/sklearn/linear_model/_sag.py:328: ConvergenceWarning: The max_iter was reached which means the coef_ did not converge\n",
      "  warnings.warn(\"The max_iter was reached which means \"\n",
      "/Users/farhad/opt/anaconda3/lib/python3.9/site-packages/sklearn/linear_model/_sag.py:328: ConvergenceWarning: The max_iter was reached which means the coef_ did not converge\n",
      "  warnings.warn(\"The max_iter was reached which means \"\n",
      "/Users/farhad/opt/anaconda3/lib/python3.9/site-packages/sklearn/linear_model/_sag.py:328: ConvergenceWarning: The max_iter was reached which means the coef_ did not converge\n",
      "  warnings.warn(\"The max_iter was reached which means \"\n",
      "/Users/farhad/opt/anaconda3/lib/python3.9/site-packages/sklearn/linear_model/_sag.py:328: ConvergenceWarning: The max_iter was reached which means the coef_ did not converge\n",
      "  warnings.warn(\"The max_iter was reached which means \"\n",
      "/Users/farhad/opt/anaconda3/lib/python3.9/site-packages/sklearn/linear_model/_sag.py:328: ConvergenceWarning: The max_iter was reached which means the coef_ did not converge\n",
      "  warnings.warn(\"The max_iter was reached which means \"\n",
      "/Users/farhad/opt/anaconda3/lib/python3.9/site-packages/sklearn/linear_model/_sag.py:328: ConvergenceWarning: The max_iter was reached which means the coef_ did not converge\n",
      "  warnings.warn(\"The max_iter was reached which means \"\n",
      "/Users/farhad/opt/anaconda3/lib/python3.9/site-packages/sklearn/linear_model/_sag.py:328: ConvergenceWarning: The max_iter was reached which means the coef_ did not converge\n",
      "  warnings.warn(\"The max_iter was reached which means \"\n",
      "/Users/farhad/opt/anaconda3/lib/python3.9/site-packages/sklearn/linear_model/_sag.py:328: ConvergenceWarning: The max_iter was reached which means the coef_ did not converge\n",
      "  warnings.warn(\"The max_iter was reached which means \"\n",
      "/Users/farhad/opt/anaconda3/lib/python3.9/site-packages/sklearn/linear_model/_sag.py:328: ConvergenceWarning: The max_iter was reached which means the coef_ did not converge\n",
      "  warnings.warn(\"The max_iter was reached which means \"\n",
      "/Users/farhad/opt/anaconda3/lib/python3.9/site-packages/sklearn/linear_model/_sag.py:328: ConvergenceWarning: The max_iter was reached which means the coef_ did not converge\n",
      "  warnings.warn(\"The max_iter was reached which means \"\n",
      "/Users/farhad/opt/anaconda3/lib/python3.9/site-packages/sklearn/model_selection/_validation.py:615: FitFailedWarning: Estimator fit failed. The score on this train-test partition for these parameters will be set to nan. Details: \n",
      "Traceback (most recent call last):\n",
      "  File \"/Users/farhad/opt/anaconda3/lib/python3.9/site-packages/sklearn/model_selection/_validation.py\", line 598, in _fit_and_score\n",
      "    estimator.fit(X_train, y_train, **fit_params)\n",
      "  File \"/Users/farhad/opt/anaconda3/lib/python3.9/site-packages/sklearn/linear_model/_logistic.py\", line 1314, in fit\n",
      "    raise ValueError(\"l1_ratio must be between 0 and 1;\"\n",
      "ValueError: l1_ratio must be between 0 and 1; got (l1_ratio=None)\n",
      "\n",
      "  warnings.warn(\"Estimator fit failed. The score on this train-test\"\n",
      "/Users/farhad/opt/anaconda3/lib/python3.9/site-packages/sklearn/model_selection/_validation.py:615: FitFailedWarning: Estimator fit failed. The score on this train-test partition for these parameters will be set to nan. Details: \n",
      "Traceback (most recent call last):\n",
      "  File \"/Users/farhad/opt/anaconda3/lib/python3.9/site-packages/sklearn/model_selection/_validation.py\", line 598, in _fit_and_score\n",
      "    estimator.fit(X_train, y_train, **fit_params)\n",
      "  File \"/Users/farhad/opt/anaconda3/lib/python3.9/site-packages/sklearn/linear_model/_logistic.py\", line 1314, in fit\n",
      "    raise ValueError(\"l1_ratio must be between 0 and 1;\"\n",
      "ValueError: l1_ratio must be between 0 and 1; got (l1_ratio=None)\n",
      "\n",
      "  warnings.warn(\"Estimator fit failed. The score on this train-test\"\n",
      "/Users/farhad/opt/anaconda3/lib/python3.9/site-packages/sklearn/model_selection/_validation.py:615: FitFailedWarning: Estimator fit failed. The score on this train-test partition for these parameters will be set to nan. Details: \n",
      "Traceback (most recent call last):\n",
      "  File \"/Users/farhad/opt/anaconda3/lib/python3.9/site-packages/sklearn/model_selection/_validation.py\", line 598, in _fit_and_score\n",
      "    estimator.fit(X_train, y_train, **fit_params)\n",
      "  File \"/Users/farhad/opt/anaconda3/lib/python3.9/site-packages/sklearn/linear_model/_logistic.py\", line 1314, in fit\n",
      "    raise ValueError(\"l1_ratio must be between 0 and 1;\"\n",
      "ValueError: l1_ratio must be between 0 and 1; got (l1_ratio=None)\n",
      "\n",
      "  warnings.warn(\"Estimator fit failed. The score on this train-test\"\n",
      "/Users/farhad/opt/anaconda3/lib/python3.9/site-packages/sklearn/model_selection/_validation.py:615: FitFailedWarning: Estimator fit failed. The score on this train-test partition for these parameters will be set to nan. Details: \n",
      "Traceback (most recent call last):\n",
      "  File \"/Users/farhad/opt/anaconda3/lib/python3.9/site-packages/sklearn/model_selection/_validation.py\", line 598, in _fit_and_score\n",
      "    estimator.fit(X_train, y_train, **fit_params)\n",
      "  File \"/Users/farhad/opt/anaconda3/lib/python3.9/site-packages/sklearn/linear_model/_logistic.py\", line 1314, in fit\n",
      "    raise ValueError(\"l1_ratio must be between 0 and 1;\"\n",
      "ValueError: l1_ratio must be between 0 and 1; got (l1_ratio=None)\n",
      "\n",
      "  warnings.warn(\"Estimator fit failed. The score on this train-test\"\n",
      "/Users/farhad/opt/anaconda3/lib/python3.9/site-packages/sklearn/model_selection/_validation.py:615: FitFailedWarning: Estimator fit failed. The score on this train-test partition for these parameters will be set to nan. Details: \n",
      "Traceback (most recent call last):\n",
      "  File \"/Users/farhad/opt/anaconda3/lib/python3.9/site-packages/sklearn/model_selection/_validation.py\", line 598, in _fit_and_score\n",
      "    estimator.fit(X_train, y_train, **fit_params)\n",
      "  File \"/Users/farhad/opt/anaconda3/lib/python3.9/site-packages/sklearn/linear_model/_logistic.py\", line 1314, in fit\n",
      "    raise ValueError(\"l1_ratio must be between 0 and 1;\"\n",
      "ValueError: l1_ratio must be between 0 and 1; got (l1_ratio=None)\n",
      "\n",
      "  warnings.warn(\"Estimator fit failed. The score on this train-test\"\n",
      "/Users/farhad/opt/anaconda3/lib/python3.9/site-packages/sklearn/linear_model/_sag.py:328: ConvergenceWarning: The max_iter was reached which means the coef_ did not converge\n",
      "  warnings.warn(\"The max_iter was reached which means \"\n",
      "/Users/farhad/opt/anaconda3/lib/python3.9/site-packages/sklearn/linear_model/_sag.py:328: ConvergenceWarning: The max_iter was reached which means the coef_ did not converge\n",
      "  warnings.warn(\"The max_iter was reached which means \"\n",
      "/Users/farhad/opt/anaconda3/lib/python3.9/site-packages/sklearn/linear_model/_sag.py:328: ConvergenceWarning: The max_iter was reached which means the coef_ did not converge\n",
      "  warnings.warn(\"The max_iter was reached which means \"\n",
      "/Users/farhad/opt/anaconda3/lib/python3.9/site-packages/sklearn/linear_model/_sag.py:328: ConvergenceWarning: The max_iter was reached which means the coef_ did not converge\n",
      "  warnings.warn(\"The max_iter was reached which means \"\n",
      "/Users/farhad/opt/anaconda3/lib/python3.9/site-packages/sklearn/linear_model/_sag.py:328: ConvergenceWarning: The max_iter was reached which means the coef_ did not converge\n",
      "  warnings.warn(\"The max_iter was reached which means \"\n",
      "/Users/farhad/opt/anaconda3/lib/python3.9/site-packages/sklearn/linear_model/_sag.py:328: ConvergenceWarning: The max_iter was reached which means the coef_ did not converge\n",
      "  warnings.warn(\"The max_iter was reached which means \"\n",
      "/Users/farhad/opt/anaconda3/lib/python3.9/site-packages/sklearn/linear_model/_sag.py:328: ConvergenceWarning: The max_iter was reached which means the coef_ did not converge\n",
      "  warnings.warn(\"The max_iter was reached which means \"\n",
      "/Users/farhad/opt/anaconda3/lib/python3.9/site-packages/sklearn/linear_model/_sag.py:328: ConvergenceWarning: The max_iter was reached which means the coef_ did not converge\n",
      "  warnings.warn(\"The max_iter was reached which means \"\n",
      "/Users/farhad/opt/anaconda3/lib/python3.9/site-packages/sklearn/linear_model/_sag.py:328: ConvergenceWarning: The max_iter was reached which means the coef_ did not converge\n",
      "  warnings.warn(\"The max_iter was reached which means \"\n",
      "/Users/farhad/opt/anaconda3/lib/python3.9/site-packages/sklearn/linear_model/_sag.py:328: ConvergenceWarning: The max_iter was reached which means the coef_ did not converge\n",
      "  warnings.warn(\"The max_iter was reached which means \"\n",
      "/Users/farhad/opt/anaconda3/lib/python3.9/site-packages/sklearn/model_selection/_validation.py:615: FitFailedWarning: Estimator fit failed. The score on this train-test partition for these parameters will be set to nan. Details: \n",
      "Traceback (most recent call last):\n",
      "  File \"/Users/farhad/opt/anaconda3/lib/python3.9/site-packages/sklearn/model_selection/_validation.py\", line 598, in _fit_and_score\n",
      "    estimator.fit(X_train, y_train, **fit_params)\n",
      "  File \"/Users/farhad/opt/anaconda3/lib/python3.9/site-packages/sklearn/linear_model/_logistic.py\", line 1314, in fit\n",
      "    raise ValueError(\"l1_ratio must be between 0 and 1;\"\n",
      "ValueError: l1_ratio must be between 0 and 1; got (l1_ratio=None)\n",
      "\n",
      "  warnings.warn(\"Estimator fit failed. The score on this train-test\"\n",
      "/Users/farhad/opt/anaconda3/lib/python3.9/site-packages/sklearn/model_selection/_validation.py:615: FitFailedWarning: Estimator fit failed. The score on this train-test partition for these parameters will be set to nan. Details: \n",
      "Traceback (most recent call last):\n",
      "  File \"/Users/farhad/opt/anaconda3/lib/python3.9/site-packages/sklearn/model_selection/_validation.py\", line 598, in _fit_and_score\n",
      "    estimator.fit(X_train, y_train, **fit_params)\n",
      "  File \"/Users/farhad/opt/anaconda3/lib/python3.9/site-packages/sklearn/linear_model/_logistic.py\", line 1314, in fit\n",
      "    raise ValueError(\"l1_ratio must be between 0 and 1;\"\n",
      "ValueError: l1_ratio must be between 0 and 1; got (l1_ratio=None)\n",
      "\n",
      "  warnings.warn(\"Estimator fit failed. The score on this train-test\"\n",
      "/Users/farhad/opt/anaconda3/lib/python3.9/site-packages/sklearn/model_selection/_validation.py:615: FitFailedWarning: Estimator fit failed. The score on this train-test partition for these parameters will be set to nan. Details: \n",
      "Traceback (most recent call last):\n",
      "  File \"/Users/farhad/opt/anaconda3/lib/python3.9/site-packages/sklearn/model_selection/_validation.py\", line 598, in _fit_and_score\n",
      "    estimator.fit(X_train, y_train, **fit_params)\n",
      "  File \"/Users/farhad/opt/anaconda3/lib/python3.9/site-packages/sklearn/linear_model/_logistic.py\", line 1314, in fit\n",
      "    raise ValueError(\"l1_ratio must be between 0 and 1;\"\n",
      "ValueError: l1_ratio must be between 0 and 1; got (l1_ratio=None)\n",
      "\n",
      "  warnings.warn(\"Estimator fit failed. The score on this train-test\"\n",
      "/Users/farhad/opt/anaconda3/lib/python3.9/site-packages/sklearn/model_selection/_validation.py:615: FitFailedWarning: Estimator fit failed. The score on this train-test partition for these parameters will be set to nan. Details: \n",
      "Traceback (most recent call last):\n",
      "  File \"/Users/farhad/opt/anaconda3/lib/python3.9/site-packages/sklearn/model_selection/_validation.py\", line 598, in _fit_and_score\n",
      "    estimator.fit(X_train, y_train, **fit_params)\n",
      "  File \"/Users/farhad/opt/anaconda3/lib/python3.9/site-packages/sklearn/linear_model/_logistic.py\", line 1314, in fit\n",
      "    raise ValueError(\"l1_ratio must be between 0 and 1;\"\n",
      "ValueError: l1_ratio must be between 0 and 1; got (l1_ratio=None)\n",
      "\n",
      "  warnings.warn(\"Estimator fit failed. The score on this train-test\"\n",
      "/Users/farhad/opt/anaconda3/lib/python3.9/site-packages/sklearn/model_selection/_validation.py:615: FitFailedWarning: Estimator fit failed. The score on this train-test partition for these parameters will be set to nan. Details: \n",
      "Traceback (most recent call last):\n",
      "  File \"/Users/farhad/opt/anaconda3/lib/python3.9/site-packages/sklearn/model_selection/_validation.py\", line 598, in _fit_and_score\n",
      "    estimator.fit(X_train, y_train, **fit_params)\n",
      "  File \"/Users/farhad/opt/anaconda3/lib/python3.9/site-packages/sklearn/linear_model/_logistic.py\", line 1314, in fit\n",
      "    raise ValueError(\"l1_ratio must be between 0 and 1;\"\n",
      "ValueError: l1_ratio must be between 0 and 1; got (l1_ratio=None)\n",
      "\n",
      "  warnings.warn(\"Estimator fit failed. The score on this train-test\"\n",
      "/Users/farhad/opt/anaconda3/lib/python3.9/site-packages/sklearn/model_selection/_search.py:922: UserWarning: One or more of the test scores are non-finite: [0.69033943 0.78724357        nan 0.67258486 0.73793361        nan\n",
      " 0.6690787  0.6766132         nan 0.6690041  0.66975009        nan\n",
      " 0.6690787  0.6691533         nan 0.6690787  0.6690787         nan]\n",
      "  warnings.warn(\n"
     ]
    },
    {
     "data": {
      "text/plain": [
       "{'C': 0.001, 'penalty': 'l1', 'solver': 'saga'}"
      ]
     },
     "execution_count": 6,
     "metadata": {},
     "output_type": "execute_result"
    }
   ],
   "source": [
    "X_train, y_train, X_test, y_test = modeling_df(df=dfsw, v_type ='tfidf', scale=True)\n",
    "\n",
    "solver = ['saga']\n",
    "penalty = ['l2', 'l1', 'elasticnet']\n",
    "c_values = [0.001, 0.01, 0.1, 1, 10, 100]\n",
    "\n",
    "lr_params = {'solver': solver, 'penalty': penalty, 'C': c_values}\n",
    "\n",
    "grid_search_cv_lr = GridSearchCV(estimator = LogisticRegression(random_state=42),\n",
    "                                param_grid = lr_params, cv=5)\n",
    "\n",
    "grid_search_cv_lr.fit(X_train, y_train)\n",
    "\n",
    "grid_search_cv_lr.best_params_"
   ]
  },
  {
   "cell_type": "code",
   "execution_count": 7,
   "metadata": {},
   "outputs": [
    {
     "name": "stdout",
     "output_type": "stream",
     "text": [
      "              precision    recall  f1-score   support\n",
      "\n",
      "           0       0.75      0.83      0.79      2749\n",
      "           1       0.83      0.75      0.79      2996\n",
      "\n",
      "    accuracy                           0.79      5745\n",
      "   macro avg       0.79      0.79      0.79      5745\n",
      "weighted avg       0.79      0.79      0.79      5745\n",
      "\n",
      "Precision score: 0.830991124260355\n",
      "Recall score: 0.75\n",
      "F1 score: 0.788421052631579\n"
     ]
    }
   ],
   "source": [
    "clf = LogisticRegression(random_state=42, solver='saga', C=0.001, penalty='l1').fit(X_train, y_train)\n",
    "predictions = clf.predict(X_test)\n",
    "print(classification_report(y_test, predictions))\n",
    "print(\"Precision score: {}\".format(precision_score(y_test, predictions)))\n",
    "print(\"Recall score: {}\".format(recall_score(y_test, predictions)))\n",
    "print(\"F1 score: {}\".format(f1_score(y_test, predictions)))"
   ]
  },
  {
   "cell_type": "code",
   "execution_count": 9,
   "metadata": {},
   "outputs": [],
   "source": [
    "# pickle the model\n",
    "pickle.dump(clf, open('clf.pkl', 'wb'))"
   ]
  },
  {
   "cell_type": "markdown",
   "metadata": {},
   "source": [
    "# Naive Bayes Classifiers"
   ]
  },
  {
   "cell_type": "markdown",
   "metadata": {},
   "source": [
    "### Count verctorizer"
   ]
  },
  {
   "cell_type": "code",
   "execution_count": 16,
   "metadata": {},
   "outputs": [
    {
     "name": "stdout",
     "output_type": "stream",
     "text": [
      "[1 0]\n",
      "[1 0]\n",
      "(13405, 13528)\n",
      "not join\n",
      "[1 0] [1 0]\n",
      "(13405, 13528)\n",
      "              precision    recall  f1-score   support\n",
      "\n",
      "           0       0.71      0.65      0.68      2749\n",
      "           1       0.70      0.76      0.73      2996\n",
      "\n",
      "    accuracy                           0.71      5745\n",
      "   macro avg       0.71      0.70      0.70      5745\n",
      "weighted avg       0.71      0.71      0.70      5745\n",
      "\n",
      "Precision score: 0.702048417132216\n",
      "Recall score: 0.7550066755674232\n",
      "F1 score: 0.7275651334834352\n"
     ]
    }
   ],
   "source": [
    "X_train, y_train, X_test, y_test = modeling_df(df=dfsw, v_type ='count',scale = False, join=False)\n",
    "print(X_train.shape)\n",
    "MNB_clf = MultinomialNB().fit(X_train, y_train)\n",
    "MNB_predictions = MNB_clf.predict(X_test)\n",
    "print(classification_report(y_test, MNB_predictions))\n",
    "print(\"Precision score: {}\".format(precision_score(y_test, MNB_predictions)))\n",
    "print(\"Recall score: {}\".format(recall_score(y_test, MNB_predictions)))\n",
    "print(\"F1 score: {}\".format(f1_score(y_test, MNB_predictions)))"
   ]
  },
  {
   "cell_type": "code",
   "execution_count": 17,
   "metadata": {},
   "outputs": [
    {
     "name": "stdout",
     "output_type": "stream",
     "text": [
      "[1 0]\n",
      "[1 0]\n",
      "(13405, 13528)\n",
      "[1 0] [1 0]\n",
      "(13405, 13621)\n",
      "              precision    recall  f1-score   support\n",
      "\n",
      "           0       0.65      0.95      0.77      2749\n",
      "           1       0.92      0.54      0.68      2996\n",
      "\n",
      "    accuracy                           0.73      5745\n",
      "   macro avg       0.79      0.74      0.73      5745\n",
      "weighted avg       0.79      0.73      0.72      5745\n",
      "\n",
      "Precision score: 0.9244521337946944\n",
      "Recall score: 0.5350467289719626\n",
      "F1 score: 0.6778012684989428\n"
     ]
    }
   ],
   "source": [
    "X_train, y_train, X_test, y_test = modeling_df(df=dfsw, v_type ='count', scale=False)\n",
    "print(X_train.shape)\n",
    "MNB_clf = MultinomialNB().fit(X_train, y_train)\n",
    "MNB_predictions = MNB_clf.predict(X_test)\n",
    "print(classification_report(y_test, MNB_predictions))\n",
    "print(\"Precision score: {}\".format(precision_score(y_test, MNB_predictions)))\n",
    "print(\"Recall score: {}\".format(recall_score(y_test, MNB_predictions)))\n",
    "print(\"F1 score: {}\".format(f1_score(y_test, MNB_predictions)))"
   ]
  },
  {
   "cell_type": "markdown",
   "metadata": {},
   "source": [
    "### TF-IDF Vectorizer"
   ]
  },
  {
   "cell_type": "code",
   "execution_count": 18,
   "metadata": {},
   "outputs": [
    {
     "name": "stdout",
     "output_type": "stream",
     "text": [
      "[1 0]\n",
      "[1 0]\n",
      "(13405, 13528)\n",
      "not join\n",
      "[1 0] [1 0]\n",
      "(13405, 13528)\n",
      "              precision    recall  f1-score   support\n",
      "\n",
      "           0       0.71      0.64      0.67      2749\n",
      "           1       0.70      0.77      0.73      2996\n",
      "\n",
      "    accuracy                           0.70      5745\n",
      "   macro avg       0.71      0.70      0.70      5745\n",
      "weighted avg       0.71      0.70      0.70      5745\n",
      "\n",
      "Precision score: 0.6967859308671922\n",
      "Recall score: 0.767022696929239\n",
      "F1 score: 0.7302192564346996\n"
     ]
    }
   ],
   "source": [
    "X_train, y_train, X_test, y_test = modeling_df(df=dfsw, v_type ='tfidf', scale=False, join=False)\n",
    "print(X_train.shape)\n",
    "MNB_clf = MultinomialNB().fit(X_train, y_train)\n",
    "MNB_predictions = MNB_clf.predict(X_test)\n",
    "print(classification_report(y_test, MNB_predictions))\n",
    "print(\"Precision score: {}\".format(precision_score(y_test, MNB_predictions)))\n",
    "print(\"Recall score: {}\".format(recall_score(y_test, MNB_predictions)))\n",
    "print(\"F1 score: {}\".format(f1_score(y_test, MNB_predictions)))"
   ]
  },
  {
   "cell_type": "code",
   "execution_count": 19,
   "metadata": {},
   "outputs": [
    {
     "name": "stdout",
     "output_type": "stream",
     "text": [
      "[1 0]\n",
      "[1 0]\n",
      "(13405, 13528)\n",
      "[1 0] [1 0]\n",
      "(13405, 13621)\n",
      "              precision    recall  f1-score   support\n",
      "\n",
      "           0       0.65      0.96      0.77      2749\n",
      "           1       0.93      0.52      0.67      2996\n",
      "\n",
      "    accuracy                           0.73      5745\n",
      "   macro avg       0.79      0.74      0.72      5745\n",
      "weighted avg       0.79      0.73      0.72      5745\n",
      "\n",
      "Precision score: 0.9310137972405519\n",
      "Recall score: 0.5180240320427236\n",
      "F1 score: 0.6656658803345485\n"
     ]
    }
   ],
   "source": [
    "X_train, y_train, X_test, y_test = modeling_df(df=dfsw, v_type ='tfidf', scale=False)\n",
    "print(X_train.shape)\n",
    "MNB_clf = MultinomialNB().fit(X_train, y_train)\n",
    "MNB_predictions = MNB_clf.predict(X_test)\n",
    "print(classification_report(y_test, MNB_predictions))\n",
    "print(\"Precision score: {}\".format(precision_score(y_test, MNB_predictions)))\n",
    "print(\"Recall score: {}\".format(recall_score(y_test, MNB_predictions)))\n",
    "print(\"F1 score: {}\".format(f1_score(y_test, MNB_predictions)))"
   ]
  },
  {
   "cell_type": "markdown",
   "metadata": {},
   "source": [
    "# Random Forest Classifier"
   ]
  },
  {
   "cell_type": "code",
   "execution_count": 20,
   "metadata": {},
   "outputs": [],
   "source": [
    "#for model tuning\n",
    "from sklearn.model_selection import GridSearchCV\n",
    "import numpy as np"
   ]
  },
  {
   "cell_type": "markdown",
   "metadata": {},
   "source": [
    "## TF-IDF Vectorizer"
   ]
  },
  {
   "cell_type": "code",
   "execution_count": 15,
   "metadata": {},
   "outputs": [
    {
     "name": "stdout",
     "output_type": "stream",
     "text": [
      "[1 0]\n",
      "[1 0]\n",
      "(13405, 13528)\n",
      "[1 0] [1 0]\n"
     ]
    },
    {
     "data": {
      "text/plain": [
       "{'max_depth': None, 'n_estimators': 50}"
      ]
     },
     "execution_count": 15,
     "metadata": {},
     "output_type": "execute_result"
    }
   ],
   "source": [
    "X_train, y_train, X_test, y_test = modeling_df(df=dfsw, v_type ='tfidf', scale=False)\n",
    "\n",
    "max_depth = [1,2,3,4,5,6,7,8,9,10, None]\n",
    "n_estimators = [10,20,30,40,50,60,70,80,90,100]\n",
    "\n",
    "rf_params = {'max_depth':max_depth, 'n_estimators': n_estimators}\n",
    "\n",
    "grid_search_cv_rf = GridSearchCV(RandomForestClassifier(random_state=42),\n",
    "                                rf_params, cv=5, scoring='accuracy')\n",
    "\n",
    "grid_search_cv_rf.fit(X_train, y_train)\n",
    "\n",
    "grid_search_cv_rf.best_params_"
   ]
  },
  {
   "cell_type": "code",
   "execution_count": 16,
   "metadata": {},
   "outputs": [
    {
     "name": "stdout",
     "output_type": "stream",
     "text": [
      "              precision    recall  f1-score   support\n",
      "\n",
      "           0       0.79      0.80      0.79      2749\n",
      "           1       0.81      0.81      0.81      2996\n",
      "\n",
      "    accuracy                           0.80      5745\n",
      "   macro avg       0.80      0.80      0.80      5745\n",
      "weighted avg       0.80      0.80      0.80      5745\n",
      "\n",
      "Precision score: 0.8126675603217158\n",
      "Recall score: 0.8094125500667557\n",
      "F1 score: 0.8110367892976589\n"
     ]
    }
   ],
   "source": [
    "rf = RandomForestClassifier(random_state=42, max_depth= None, n_estimators=50).fit(X_train, y_train)\n",
    "rf_predictions = rf.predict(X_test)\n",
    "print(classification_report(y_test, rf_predictions))\n",
    "print(\"Precision score: {}\".format(precision_score(y_test, rf_predictions)))\n",
    "print(\"Recall score: {}\".format(recall_score(y_test, rf_predictions)))\n",
    "print(\"F1 score: {}\".format(f1_score(y_test, rf_predictions)))"
   ]
  },
  {
   "cell_type": "code",
   "execution_count": 17,
   "metadata": {},
   "outputs": [],
   "source": [
    "# pickle the model\n",
    "pickle.dump(rf, open('rf.pkl', 'wb'))"
   ]
  },
  {
   "cell_type": "code",
   "execution_count": 14,
   "metadata": {},
   "outputs": [
    {
     "name": "stdout",
     "output_type": "stream",
     "text": [
      "              precision    recall  f1-score   support\n",
      "\n",
      "           0       0.79      0.79      0.79      2749\n",
      "           1       0.80      0.81      0.81      2996\n",
      "\n",
      "    accuracy                           0.80      5745\n",
      "   macro avg       0.80      0.80      0.80      5745\n",
      "weighted avg       0.80      0.80      0.80      5745\n",
      "\n",
      "Precision score: 0.80488610102344\n",
      "Recall score: 0.8137516688918558\n",
      "F1 score: 0.8092946058091286\n"
     ]
    }
   ],
   "source": [
    "rf = RandomForestClassifier(random_state=42).fit(X_train, y_train)\n",
    "rf_predictions = rf.predict(X_test)\n",
    "print(classification_report(y_test, rf_predictions))\n",
    "print(\"Precision score: {}\".format(precision_score(y_test, rf_predictions)))\n",
    "print(\"Recall score: {}\".format(recall_score(y_test, rf_predictions)))\n",
    "print(\"F1 score: {}\".format(f1_score(y_test, rf_predictions)))"
   ]
  },
  {
   "cell_type": "code",
   "execution_count": 25,
   "metadata": {},
   "outputs": [
    {
     "name": "stdout",
     "output_type": "stream",
     "text": [
      "[1 0]\n",
      "[1 0]\n",
      "(13405, 13528)\n",
      "[1 0] [1 0]\n",
      "(13405, 13621)\n",
      "              precision    recall  f1-score   support\n",
      "\n",
      "           0       0.79      0.79      0.79      2749\n",
      "           1       0.80      0.81      0.81      2996\n",
      "\n",
      "    accuracy                           0.80      5745\n",
      "   macro avg       0.80      0.80      0.80      5745\n",
      "weighted avg       0.80      0.80      0.80      5745\n",
      "\n",
      "Precision score: 0.80488610102344\n",
      "Recall score: 0.8137516688918558\n",
      "F1 score: 0.8092946058091286\n"
     ]
    }
   ],
   "source": [
    "X_train, y_train, X_test, y_test = modeling_df(df=dfsw, v_type ='tfidf', scale=False)\n",
    "print(X_train.shape)\n",
    "rf = RandomForestClassifier(random_state=42).fit(X_train, y_train)\n",
    "rf_predictions = rf.predict(X_test)\n",
    "print(classification_report(y_test, rf_predictions))\n",
    "print(\"Precision score: {}\".format(precision_score(y_test, rf_predictions)))\n",
    "print(\"Recall score: {}\".format(recall_score(y_test, rf_predictions)))\n",
    "print(\"F1 score: {}\".format(f1_score(y_test, rf_predictions)))"
   ]
  },
  {
   "cell_type": "markdown",
   "metadata": {},
   "source": [
    "## Count vectorizer"
   ]
  },
  {
   "cell_type": "code",
   "execution_count": 26,
   "metadata": {},
   "outputs": [
    {
     "name": "stdout",
     "output_type": "stream",
     "text": [
      "[1 0]\n",
      "[1 0]\n",
      "(13405, 13528)\n",
      "[1 0] [1 0]\n",
      "(13405, 13621)\n",
      "              precision    recall  f1-score   support\n",
      "\n",
      "           0       0.78      0.78      0.78      2749\n",
      "           1       0.80      0.79      0.80      2996\n",
      "\n",
      "    accuracy                           0.79      5745\n",
      "   macro avg       0.79      0.79      0.79      5745\n",
      "weighted avg       0.79      0.79      0.79      5745\n",
      "\n",
      "Precision score: 0.7992602555480834\n",
      "Recall score: 0.7933911882510013\n",
      "F1 score: 0.7963149078726969\n"
     ]
    }
   ],
   "source": [
    "X_train, y_train, X_test, y_test = modeling_df(df=dfsw, v_type ='count', scale=False,)\n",
    "print(X_train.shape)\n",
    "rf = RandomForestClassifier(random_state=42).fit(X_train, y_train)\n",
    "rf_predictions = rf.predict(X_test)\n",
    "print(classification_report(y_test, rf_predictions))\n",
    "print(\"Precision score: {}\".format(precision_score(y_test, rf_predictions)))\n",
    "print(\"Recall score: {}\".format(recall_score(y_test, rf_predictions)))\n",
    "print(\"F1 score: {}\".format(f1_score(y_test, rf_predictions)))"
   ]
  },
  {
   "cell_type": "code",
   "execution_count": 27,
   "metadata": {},
   "outputs": [
    {
     "name": "stdout",
     "output_type": "stream",
     "text": [
      "[1 0]\n",
      "[1 0]\n",
      "(13405, 13528)\n",
      "not join\n",
      "[1 0] [1 0]\n",
      "(13405, 13528)\n",
      "              precision    recall  f1-score   support\n",
      "\n",
      "           0       0.69      0.67      0.68      2749\n",
      "           1       0.70      0.73      0.72      2996\n",
      "\n",
      "    accuracy                           0.70      5745\n",
      "   macro avg       0.70      0.70      0.70      5745\n",
      "weighted avg       0.70      0.70      0.70      5745\n",
      "\n",
      "Precision score: 0.7044430135222151\n",
      "Recall score: 0.7303070761014686\n",
      "F1 score: 0.7171419206817436\n"
     ]
    }
   ],
   "source": [
    "X_train, y_train, X_test, y_test = modeling_df(df=dfsw, v_type ='tfidf', scale=False, join=False)\n",
    "print(X_train.shape)\n",
    "rf = RandomForestClassifier().fit(X_train, y_train)\n",
    "rf_predictions = rf.predict(X_test)\n",
    "print(classification_report(y_test, rf_predictions))\n",
    "print(\"Precision score: {}\".format(precision_score(y_test, rf_predictions)))\n",
    "print(\"Recall score: {}\".format(recall_score(y_test, rf_predictions)))\n",
    "print(\"F1 score: {}\".format(f1_score(y_test, rf_predictions)))"
   ]
  },
  {
   "cell_type": "code",
   "execution_count": 28,
   "metadata": {},
   "outputs": [
    {
     "name": "stdout",
     "output_type": "stream",
     "text": [
      "[1 0]\n",
      "[1 0]\n",
      "(13405, 13528)\n",
      "not join\n",
      "[1 0] [1 0]\n",
      "(13405, 13528)\n",
      "              precision    recall  f1-score   support\n",
      "\n",
      "           0       0.67      0.69      0.68      2749\n",
      "           1       0.71      0.69      0.70      2996\n",
      "\n",
      "    accuracy                           0.69      5745\n",
      "   macro avg       0.69      0.69      0.69      5745\n",
      "weighted avg       0.69      0.69      0.69      5745\n",
      "\n",
      "Precision score: 0.7090220385674931\n",
      "Recall score: 0.6872496662216289\n",
      "F1 score: 0.6979661016949152\n"
     ]
    }
   ],
   "source": [
    "X_train, y_train, X_test, y_test = modeling_df(df=dfsw, v_type ='count', scale=False, join=False)\n",
    "print(X_train.shape)\n",
    "rf = RandomForestClassifier().fit(X_train, y_train)\n",
    "rf_predictions = rf.predict(X_test)\n",
    "print(classification_report(y_test, rf_predictions))\n",
    "print(\"Precision score: {}\".format(precision_score(y_test, rf_predictions)))\n",
    "print(\"Recall score: {}\".format(recall_score(y_test, rf_predictions)))\n",
    "print(\"F1 score: {}\".format(f1_score(y_test, rf_predictions)))"
   ]
  },
  {
   "cell_type": "markdown",
   "metadata": {},
   "source": [
    "## SVM Classifier"
   ]
  },
  {
   "cell_type": "markdown",
   "metadata": {},
   "source": [
    "### TF-IDF Vectorizer"
   ]
  },
  {
   "cell_type": "code",
   "execution_count": 30,
   "metadata": {},
   "outputs": [
    {
     "name": "stdout",
     "output_type": "stream",
     "text": [
      "[1 0]\n",
      "[1 0]\n",
      "(13405, 13528)\n",
      "[1 0] [1 0]\n"
     ]
    }
   ],
   "source": [
    "X_train, y_train, X_test, y_test = modeling_df(df=dfsw, v_type ='tfidf', scale=False)\n",
    "\n",
    "C = [0.001, 0.01]\n",
    "\n",
    "rf_params = {'C':C}\n",
    "\n",
    "grid_search_cv_svm = GridSearchCV(SVC(random_state=42),\n",
    "                                rf_params, cv=10)\n",
    "\n",
    "grid_search_cv_svm.fit(X_train, y_train)\n",
    "\n",
    "grid_search_cv_svm.best_params_"
   ]
  },
  {
   "cell_type": "code",
   "execution_count": 29,
   "metadata": {},
   "outputs": [
    {
     "name": "stdout",
     "output_type": "stream",
     "text": [
      "[1 0]\n",
      "[1 0]\n",
      "(13405, 13528)\n",
      "not join\n",
      "[1 0] [1 0]\n",
      "(13405, 13528)\n",
      "              precision    recall  f1-score   support\n",
      "\n",
      "           0       0.00      0.00      0.00      2749\n",
      "           1       0.52      1.00      0.69      2996\n",
      "\n",
      "    accuracy                           0.52      5745\n",
      "   macro avg       0.26      0.50      0.34      5745\n",
      "weighted avg       0.27      0.52      0.36      5745\n",
      "\n",
      "Precision score: 0.5214969538729329\n",
      "Recall score: 1.0\n",
      "F1 score: 0.685505090950692\n"
     ]
    },
    {
     "name": "stderr",
     "output_type": "stream",
     "text": [
      "/Users/farhad/opt/anaconda3/lib/python3.9/site-packages/sklearn/metrics/_classification.py:1248: UndefinedMetricWarning: Precision and F-score are ill-defined and being set to 0.0 in labels with no predicted samples. Use `zero_division` parameter to control this behavior.\n",
      "  _warn_prf(average, modifier, msg_start, len(result))\n",
      "/Users/farhad/opt/anaconda3/lib/python3.9/site-packages/sklearn/metrics/_classification.py:1248: UndefinedMetricWarning: Precision and F-score are ill-defined and being set to 0.0 in labels with no predicted samples. Use `zero_division` parameter to control this behavior.\n",
      "  _warn_prf(average, modifier, msg_start, len(result))\n",
      "/Users/farhad/opt/anaconda3/lib/python3.9/site-packages/sklearn/metrics/_classification.py:1248: UndefinedMetricWarning: Precision and F-score are ill-defined and being set to 0.0 in labels with no predicted samples. Use `zero_division` parameter to control this behavior.\n",
      "  _warn_prf(average, modifier, msg_start, len(result))\n"
     ]
    }
   ],
   "source": [
    "X_train, y_train, X_test, y_test = modeling_df(df=dfsw, v_type ='tfidf', scale=False, join=False)\n",
    "print(X_train.shape)\n",
    "svc_model = SVC(C=0.001, kernel=\"linear\", random_state=42).fit(X_train, y_train)\n",
    "svc_predictions = svc_model.predict(X_test)\n",
    "print(classification_report(y_test, svc_predictions))\n",
    "print(\"Precision score: {}\".format(precision_score(y_test, svc_predictions)))\n",
    "print(\"Recall score: {}\".format(recall_score(y_test, svc_predictions)))\n",
    "print(\"F1 score: {}\".format(f1_score(y_test, svc_predictions)))"
   ]
  },
  {
   "cell_type": "code",
   "execution_count": null,
   "metadata": {},
   "outputs": [],
   "source": []
  }
 ],
 "metadata": {
  "kernelspec": {
   "display_name": "Python 3.9.7 ('base')",
   "language": "python",
   "name": "python3"
  },
  "language_info": {
   "codemirror_mode": {
    "name": "ipython",
    "version": 3
   },
   "file_extension": ".py",
   "mimetype": "text/x-python",
   "name": "python",
   "nbconvert_exporter": "python",
   "pygments_lexer": "ipython3",
   "version": "3.9.7"
  },
  "orig_nbformat": 4,
  "vscode": {
   "interpreter": {
    "hash": "bd08aa8f182ab1e800dd5043fc56be13169f9a71f80ff504c7e690b2906b935e"
   }
  }
 },
 "nbformat": 4,
 "nbformat_minor": 2
}
