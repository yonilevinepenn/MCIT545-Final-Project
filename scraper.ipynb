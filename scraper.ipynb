{
 "cells": [
  {
   "cell_type": "markdown",
   "metadata": {},
   "source": [
    "## Yoni Levine and Farhad Zmarai\n",
    " "
   ]
  },
  {
   "cell_type": "code",
   "execution_count": 3,
   "metadata": {},
   "outputs": [],
   "source": [
    "import pandas as pd\n",
    "from bs4 import BeautifulSoup\n",
    "from selenium import webdriver\n",
    "from selenium.webdriver.common.by import By\n",
    "from selenium.webdriver.support.ui import WebDriverWait\n",
    "from selenium.webdriver.support import expected_conditions as EC\n",
    "from selenium.common.exceptions import TimeoutException\n",
    "from time import sleep\n",
    "from datetime import datetime, timedelta\n",
    "\n",
    "import re\n",
    "import warnings\n",
    "warnings.filterwarnings('ignore')"
   ]
  },
  {
   "cell_type": "code",
   "execution_count": 4,
   "metadata": {},
   "outputs": [],
   "source": [
    "driver = webdriver.Chrome(executable_path=\"./chromedriver\")"
   ]
  },
  {
   "cell_type": "code",
   "execution_count": 5,
   "metadata": {},
   "outputs": [],
   "source": [
    "# password Finalprojectlogin123!@#\n",
    "# email ylevine@seas.upenn.edu\n",
    "# username ylfz\n",
    "\n",
    "# login process\n",
    "driver.get(\"http://www.takethislife.com\")    \n",
    "\n",
    "username = driver.find_element_by_xpath(\"\"\"//*[@id=\"navbar_username\"]\"\"\")\n",
    "password = driver.find_element_by_xpath(\"\"\"//*[@id=\"navbar_password\"]\"\"\")\n",
    "\n",
    "username.send_keys(\"ylfz\")\n",
    "password.send_keys(\"Finalprojectlogin123!@#\")\n",
    "\n",
    "driver.find_element_by_xpath(\"\"\"/html/body/div[1]/div/div/table[1]/tbody/tr/td[2]/form/table/tbody/tr[2]/td[3]/input\"\"\").click()\n",
    "sleep(10)"
   ]
  },
  {
   "cell_type": "code",
   "execution_count": 6,
   "metadata": {},
   "outputs": [],
   "source": [
    "driver.get(\"https://www.takethislife.com/depression/christmas-blues-12938/\")"
   ]
  },
  {
   "cell_type": "code",
   "execution_count": 7,
   "metadata": {},
   "outputs": [
    {
     "ename": "FileNotFoundError",
     "evalue": "[Errno 2] No such file or directory: 'depression_raw_2.csv'",
     "output_type": "error",
     "traceback": [
      "\u001b[0;31m---------------------------------------------------------------------------\u001b[0m",
      "\u001b[0;31mFileNotFoundError\u001b[0m                         Traceback (most recent call last)",
      "\u001b[1;32m/Users/yonilevine/Desktop/Penn_SEAS_MCIT/BigDataMCIT5450/Big_Data_Homework/MCIT545-Final-Project/scraper.ipynb Cell 5\u001b[0m in \u001b[0;36m<cell line: 1>\u001b[0;34m()\u001b[0m\n\u001b[0;32m----> <a href='vscode-notebook-cell:/Users/yonilevine/Desktop/Penn_SEAS_MCIT/BigDataMCIT5450/Big_Data_Homework/MCIT545-Final-Project/scraper.ipynb#ch0000004?line=0'>1</a>\u001b[0m depression \u001b[39m=\u001b[39m pd\u001b[39m.\u001b[39;49mread_csv(\u001b[39m'\u001b[39;49m\u001b[39mdepression_raw_2.csv\u001b[39;49m\u001b[39m'\u001b[39;49m)\n",
      "File \u001b[0;32m~/Desktop/Penn_SEAS_MCIT/BigDataMCIT5450/Big_Data_Homework/MCIT545-Final-Project/final_project_venv/lib/python3.9/site-packages/pandas/util/_decorators.py:311\u001b[0m, in \u001b[0;36mdeprecate_nonkeyword_arguments.<locals>.decorate.<locals>.wrapper\u001b[0;34m(*args, **kwargs)\u001b[0m\n\u001b[1;32m    305\u001b[0m \u001b[39mif\u001b[39;00m \u001b[39mlen\u001b[39m(args) \u001b[39m>\u001b[39m num_allow_args:\n\u001b[1;32m    306\u001b[0m     warnings\u001b[39m.\u001b[39mwarn(\n\u001b[1;32m    307\u001b[0m         msg\u001b[39m.\u001b[39mformat(arguments\u001b[39m=\u001b[39marguments),\n\u001b[1;32m    308\u001b[0m         \u001b[39mFutureWarning\u001b[39;00m,\n\u001b[1;32m    309\u001b[0m         stacklevel\u001b[39m=\u001b[39mstacklevel,\n\u001b[1;32m    310\u001b[0m     )\n\u001b[0;32m--> 311\u001b[0m \u001b[39mreturn\u001b[39;00m func(\u001b[39m*\u001b[39;49margs, \u001b[39m*\u001b[39;49m\u001b[39m*\u001b[39;49mkwargs)\n",
      "File \u001b[0;32m~/Desktop/Penn_SEAS_MCIT/BigDataMCIT5450/Big_Data_Homework/MCIT545-Final-Project/final_project_venv/lib/python3.9/site-packages/pandas/io/parsers/readers.py:680\u001b[0m, in \u001b[0;36mread_csv\u001b[0;34m(filepath_or_buffer, sep, delimiter, header, names, index_col, usecols, squeeze, prefix, mangle_dupe_cols, dtype, engine, converters, true_values, false_values, skipinitialspace, skiprows, skipfooter, nrows, na_values, keep_default_na, na_filter, verbose, skip_blank_lines, parse_dates, infer_datetime_format, keep_date_col, date_parser, dayfirst, cache_dates, iterator, chunksize, compression, thousands, decimal, lineterminator, quotechar, quoting, doublequote, escapechar, comment, encoding, encoding_errors, dialect, error_bad_lines, warn_bad_lines, on_bad_lines, delim_whitespace, low_memory, memory_map, float_precision, storage_options)\u001b[0m\n\u001b[1;32m    665\u001b[0m kwds_defaults \u001b[39m=\u001b[39m _refine_defaults_read(\n\u001b[1;32m    666\u001b[0m     dialect,\n\u001b[1;32m    667\u001b[0m     delimiter,\n\u001b[0;32m   (...)\u001b[0m\n\u001b[1;32m    676\u001b[0m     defaults\u001b[39m=\u001b[39m{\u001b[39m\"\u001b[39m\u001b[39mdelimiter\u001b[39m\u001b[39m\"\u001b[39m: \u001b[39m\"\u001b[39m\u001b[39m,\u001b[39m\u001b[39m\"\u001b[39m},\n\u001b[1;32m    677\u001b[0m )\n\u001b[1;32m    678\u001b[0m kwds\u001b[39m.\u001b[39mupdate(kwds_defaults)\n\u001b[0;32m--> 680\u001b[0m \u001b[39mreturn\u001b[39;00m _read(filepath_or_buffer, kwds)\n",
      "File \u001b[0;32m~/Desktop/Penn_SEAS_MCIT/BigDataMCIT5450/Big_Data_Homework/MCIT545-Final-Project/final_project_venv/lib/python3.9/site-packages/pandas/io/parsers/readers.py:575\u001b[0m, in \u001b[0;36m_read\u001b[0;34m(filepath_or_buffer, kwds)\u001b[0m\n\u001b[1;32m    572\u001b[0m _validate_names(kwds\u001b[39m.\u001b[39mget(\u001b[39m\"\u001b[39m\u001b[39mnames\u001b[39m\u001b[39m\"\u001b[39m, \u001b[39mNone\u001b[39;00m))\n\u001b[1;32m    574\u001b[0m \u001b[39m# Create the parser.\u001b[39;00m\n\u001b[0;32m--> 575\u001b[0m parser \u001b[39m=\u001b[39m TextFileReader(filepath_or_buffer, \u001b[39m*\u001b[39;49m\u001b[39m*\u001b[39;49mkwds)\n\u001b[1;32m    577\u001b[0m \u001b[39mif\u001b[39;00m chunksize \u001b[39mor\u001b[39;00m iterator:\n\u001b[1;32m    578\u001b[0m     \u001b[39mreturn\u001b[39;00m parser\n",
      "File \u001b[0;32m~/Desktop/Penn_SEAS_MCIT/BigDataMCIT5450/Big_Data_Homework/MCIT545-Final-Project/final_project_venv/lib/python3.9/site-packages/pandas/io/parsers/readers.py:934\u001b[0m, in \u001b[0;36mTextFileReader.__init__\u001b[0;34m(self, f, engine, **kwds)\u001b[0m\n\u001b[1;32m    931\u001b[0m     \u001b[39mself\u001b[39m\u001b[39m.\u001b[39moptions[\u001b[39m\"\u001b[39m\u001b[39mhas_index_names\u001b[39m\u001b[39m\"\u001b[39m] \u001b[39m=\u001b[39m kwds[\u001b[39m\"\u001b[39m\u001b[39mhas_index_names\u001b[39m\u001b[39m\"\u001b[39m]\n\u001b[1;32m    933\u001b[0m \u001b[39mself\u001b[39m\u001b[39m.\u001b[39mhandles: IOHandles \u001b[39m|\u001b[39m \u001b[39mNone\u001b[39;00m \u001b[39m=\u001b[39m \u001b[39mNone\u001b[39;00m\n\u001b[0;32m--> 934\u001b[0m \u001b[39mself\u001b[39m\u001b[39m.\u001b[39m_engine \u001b[39m=\u001b[39m \u001b[39mself\u001b[39;49m\u001b[39m.\u001b[39;49m_make_engine(f, \u001b[39mself\u001b[39;49m\u001b[39m.\u001b[39;49mengine)\n",
      "File \u001b[0;32m~/Desktop/Penn_SEAS_MCIT/BigDataMCIT5450/Big_Data_Homework/MCIT545-Final-Project/final_project_venv/lib/python3.9/site-packages/pandas/io/parsers/readers.py:1218\u001b[0m, in \u001b[0;36mTextFileReader._make_engine\u001b[0;34m(self, f, engine)\u001b[0m\n\u001b[1;32m   1214\u001b[0m     mode \u001b[39m=\u001b[39m \u001b[39m\"\u001b[39m\u001b[39mrb\u001b[39m\u001b[39m\"\u001b[39m\n\u001b[1;32m   1215\u001b[0m \u001b[39m# error: No overload variant of \"get_handle\" matches argument types\u001b[39;00m\n\u001b[1;32m   1216\u001b[0m \u001b[39m# \"Union[str, PathLike[str], ReadCsvBuffer[bytes], ReadCsvBuffer[str]]\"\u001b[39;00m\n\u001b[1;32m   1217\u001b[0m \u001b[39m# , \"str\", \"bool\", \"Any\", \"Any\", \"Any\", \"Any\", \"Any\"\u001b[39;00m\n\u001b[0;32m-> 1218\u001b[0m \u001b[39mself\u001b[39m\u001b[39m.\u001b[39mhandles \u001b[39m=\u001b[39m get_handle(  \u001b[39m# type: ignore[call-overload]\u001b[39;49;00m\n\u001b[1;32m   1219\u001b[0m     f,\n\u001b[1;32m   1220\u001b[0m     mode,\n\u001b[1;32m   1221\u001b[0m     encoding\u001b[39m=\u001b[39;49m\u001b[39mself\u001b[39;49m\u001b[39m.\u001b[39;49moptions\u001b[39m.\u001b[39;49mget(\u001b[39m\"\u001b[39;49m\u001b[39mencoding\u001b[39;49m\u001b[39m\"\u001b[39;49m, \u001b[39mNone\u001b[39;49;00m),\n\u001b[1;32m   1222\u001b[0m     compression\u001b[39m=\u001b[39;49m\u001b[39mself\u001b[39;49m\u001b[39m.\u001b[39;49moptions\u001b[39m.\u001b[39;49mget(\u001b[39m\"\u001b[39;49m\u001b[39mcompression\u001b[39;49m\u001b[39m\"\u001b[39;49m, \u001b[39mNone\u001b[39;49;00m),\n\u001b[1;32m   1223\u001b[0m     memory_map\u001b[39m=\u001b[39;49m\u001b[39mself\u001b[39;49m\u001b[39m.\u001b[39;49moptions\u001b[39m.\u001b[39;49mget(\u001b[39m\"\u001b[39;49m\u001b[39mmemory_map\u001b[39;49m\u001b[39m\"\u001b[39;49m, \u001b[39mFalse\u001b[39;49;00m),\n\u001b[1;32m   1224\u001b[0m     is_text\u001b[39m=\u001b[39;49mis_text,\n\u001b[1;32m   1225\u001b[0m     errors\u001b[39m=\u001b[39;49m\u001b[39mself\u001b[39;49m\u001b[39m.\u001b[39;49moptions\u001b[39m.\u001b[39;49mget(\u001b[39m\"\u001b[39;49m\u001b[39mencoding_errors\u001b[39;49m\u001b[39m\"\u001b[39;49m, \u001b[39m\"\u001b[39;49m\u001b[39mstrict\u001b[39;49m\u001b[39m\"\u001b[39;49m),\n\u001b[1;32m   1226\u001b[0m     storage_options\u001b[39m=\u001b[39;49m\u001b[39mself\u001b[39;49m\u001b[39m.\u001b[39;49moptions\u001b[39m.\u001b[39;49mget(\u001b[39m\"\u001b[39;49m\u001b[39mstorage_options\u001b[39;49m\u001b[39m\"\u001b[39;49m, \u001b[39mNone\u001b[39;49;00m),\n\u001b[1;32m   1227\u001b[0m )\n\u001b[1;32m   1228\u001b[0m \u001b[39massert\u001b[39;00m \u001b[39mself\u001b[39m\u001b[39m.\u001b[39mhandles \u001b[39mis\u001b[39;00m \u001b[39mnot\u001b[39;00m \u001b[39mNone\u001b[39;00m\n\u001b[1;32m   1229\u001b[0m f \u001b[39m=\u001b[39m \u001b[39mself\u001b[39m\u001b[39m.\u001b[39mhandles\u001b[39m.\u001b[39mhandle\n",
      "File \u001b[0;32m~/Desktop/Penn_SEAS_MCIT/BigDataMCIT5450/Big_Data_Homework/MCIT545-Final-Project/final_project_venv/lib/python3.9/site-packages/pandas/io/common.py:786\u001b[0m, in \u001b[0;36mget_handle\u001b[0;34m(path_or_buf, mode, encoding, compression, memory_map, is_text, errors, storage_options)\u001b[0m\n\u001b[1;32m    781\u001b[0m \u001b[39melif\u001b[39;00m \u001b[39misinstance\u001b[39m(handle, \u001b[39mstr\u001b[39m):\n\u001b[1;32m    782\u001b[0m     \u001b[39m# Check whether the filename is to be opened in binary mode.\u001b[39;00m\n\u001b[1;32m    783\u001b[0m     \u001b[39m# Binary mode does not support 'encoding' and 'newline'.\u001b[39;00m\n\u001b[1;32m    784\u001b[0m     \u001b[39mif\u001b[39;00m ioargs\u001b[39m.\u001b[39mencoding \u001b[39mand\u001b[39;00m \u001b[39m\"\u001b[39m\u001b[39mb\u001b[39m\u001b[39m\"\u001b[39m \u001b[39mnot\u001b[39;00m \u001b[39min\u001b[39;00m ioargs\u001b[39m.\u001b[39mmode:\n\u001b[1;32m    785\u001b[0m         \u001b[39m# Encoding\u001b[39;00m\n\u001b[0;32m--> 786\u001b[0m         handle \u001b[39m=\u001b[39m \u001b[39mopen\u001b[39;49m(\n\u001b[1;32m    787\u001b[0m             handle,\n\u001b[1;32m    788\u001b[0m             ioargs\u001b[39m.\u001b[39;49mmode,\n\u001b[1;32m    789\u001b[0m             encoding\u001b[39m=\u001b[39;49mioargs\u001b[39m.\u001b[39;49mencoding,\n\u001b[1;32m    790\u001b[0m             errors\u001b[39m=\u001b[39;49merrors,\n\u001b[1;32m    791\u001b[0m             newline\u001b[39m=\u001b[39;49m\u001b[39m\"\u001b[39;49m\u001b[39m\"\u001b[39;49m,\n\u001b[1;32m    792\u001b[0m         )\n\u001b[1;32m    793\u001b[0m     \u001b[39melse\u001b[39;00m:\n\u001b[1;32m    794\u001b[0m         \u001b[39m# Binary mode\u001b[39;00m\n\u001b[1;32m    795\u001b[0m         handle \u001b[39m=\u001b[39m \u001b[39mopen\u001b[39m(handle, ioargs\u001b[39m.\u001b[39mmode)\n",
      "\u001b[0;31mFileNotFoundError\u001b[0m: [Errno 2] No such file or directory: 'depression_raw_2.csv'"
     ]
    }
   ],
   "source": [
    "depression = pd.read_csv('depression_raw_2.csv')"
   ]
  },
  {
   "cell_type": "code",
   "execution_count": null,
   "metadata": {},
   "outputs": [],
   "source": [
    "# depression= pd.DataFrame(columns=[\"username\",\"text\",\"posts\",\"url\",\"date_posted\"])"
   ]
  },
  {
   "cell_type": "code",
   "execution_count": null,
   "metadata": {},
   "outputs": [],
   "source": [
    "htmls = []"
   ]
  },
  {
   "cell_type": "code",
   "execution_count": 11,
   "metadata": {},
   "outputs": [],
   "source": [
    "total_posts = 20 * 968"
   ]
  },
  {
   "cell_type": "code",
   "execution_count": 14,
   "metadata": {},
   "outputs": [
    {
     "ename": "NameError",
     "evalue": "name 'url' is not defined",
     "output_type": "error",
     "traceback": [
      "\u001b[0;31m---------------------------------------------------------------------------\u001b[0m",
      "\u001b[0;31mNameError\u001b[0m                                 Traceback (most recent call last)",
      "\u001b[1;32m/Users/yonilevine/Desktop/Penn_SEAS_MCIT/BigDataMCIT5450/Big_Data_Homework/MCIT545-Final-Project/scraper.ipynb Cell 9\u001b[0m in \u001b[0;36m<cell line: 2>\u001b[0;34m()\u001b[0m\n\u001b[1;32m      <a href='vscode-notebook-cell:/Users/yonilevine/Desktop/Penn_SEAS_MCIT/BigDataMCIT5450/Big_Data_Homework/MCIT545-Final-Project/scraper.ipynb#ch0000008?line=8'>9</a>\u001b[0m html2\u001b[39m=\u001b[39mBeautifulSoup(html,\u001b[39m'\u001b[39m\u001b[39mhtml.parser\u001b[39m\u001b[39m'\u001b[39m, from_encoding\u001b[39m=\u001b[39m\u001b[39m\"\u001b[39m\u001b[39mutf-8\u001b[39m\u001b[39m\"\u001b[39m)\n\u001b[0;32m---> <a href='vscode-notebook-cell:/Users/yonilevine/Desktop/Penn_SEAS_MCIT/BigDataMCIT5450/Big_Data_Homework/MCIT545-Final-Project/scraper.ipynb#ch0000008?line=9'>10</a>\u001b[0m htmls\u001b[39m.\u001b[39mappend(html2)\n\u001b[1;32m     <a href='vscode-notebook-cell:/Users/yonilevine/Desktop/Penn_SEAS_MCIT/BigDataMCIT5450/Big_Data_Homework/MCIT545-Final-Project/scraper.ipynb#ch0000008?line=11'>12</a>\u001b[0m \u001b[39m#get initial post from forum\u001b[39;00m\n",
      "\u001b[0;31mNameError\u001b[0m: name 'htmls' is not defined",
      "\nDuring handling of the above exception, another exception occurred:\n",
      "\u001b[0;31mNameError\u001b[0m                                 Traceback (most recent call last)",
      "\u001b[1;32m/Users/yonilevine/Desktop/Penn_SEAS_MCIT/BigDataMCIT5450/Big_Data_Homework/MCIT545-Final-Project/scraper.ipynb Cell 9\u001b[0m in \u001b[0;36m<cell line: 2>\u001b[0;34m()\u001b[0m\n\u001b[1;32m     <a href='vscode-notebook-cell:/Users/yonilevine/Desktop/Penn_SEAS_MCIT/BigDataMCIT5450/Big_Data_Homework/MCIT545-Final-Project/scraper.ipynb#ch0000008?line=42'>43</a>\u001b[0m     \u001b[39mexcept\u001b[39;00m \u001b[39mException\u001b[39;00m \u001b[39mas\u001b[39;00m e:\n\u001b[1;32m     <a href='vscode-notebook-cell:/Users/yonilevine/Desktop/Penn_SEAS_MCIT/BigDataMCIT5450/Big_Data_Homework/MCIT545-Final-Project/scraper.ipynb#ch0000008?line=43'>44</a>\u001b[0m         driver\u001b[39m.\u001b[39mfind_element_by_xpath(\u001b[39m\"\"\"\u001b[39m\u001b[39m/html/body/div[3]/div/div/div[1]/a[1]\u001b[39m\u001b[39m\"\"\"\u001b[39m)\u001b[39m.\u001b[39mclick()\n\u001b[0;32m---> <a href='vscode-notebook-cell:/Users/yonilevine/Desktop/Penn_SEAS_MCIT/BigDataMCIT5450/Big_Data_Homework/MCIT545-Final-Project/scraper.ipynb#ch0000008?line=44'>45</a>\u001b[0m         \u001b[39mprint\u001b[39m(\u001b[39mf\u001b[39m\u001b[39m'\u001b[39m\u001b[39mSkipping url \u001b[39m\u001b[39m{\u001b[39;00murl\u001b[39m}\u001b[39;00m\u001b[39m item number \u001b[39m\u001b[39m{\u001b[39;00mitem\u001b[39m}\u001b[39;00m\u001b[39m'\u001b[39m)\n\u001b[1;32m     <a href='vscode-notebook-cell:/Users/yonilevine/Desktop/Penn_SEAS_MCIT/BigDataMCIT5450/Big_Data_Homework/MCIT545-Final-Project/scraper.ipynb#ch0000008?line=45'>46</a>\u001b[0m driver\u001b[39m.\u001b[39mclose()\n",
      "\u001b[0;31mNameError\u001b[0m: name 'url' is not defined"
     ]
    }
   ],
   "source": [
    "# driver.get(depression.iloc[-1]['url'])\n",
    "for item in range(1,10):\n",
    "# for item in range(1,100):\n",
    "    try:\n",
    "        #get full page HTML\n",
    "        html = driver.page_source\n",
    "\n",
    "        #parse structure using BS\n",
    "        html2=BeautifulSoup(html,'html.parser', from_encoding=\"utf-8\")\n",
    "        htmls.append(html2)\n",
    "\n",
    "        #get initial post from forum\n",
    "        text=html2.find(\"div\", id=re.compile(\"^post_message\")).get_text()\n",
    "\n",
    "        #get username\n",
    "        name=html2.find('a',class_='bigusername').get_text()\n",
    "\n",
    "        #get post count section and parse posts\n",
    "        q = html2.find(\"div\", id=\"posts\").get_text()\n",
    "        p = re.search('Posts: (\\d+)',q.replace(',',''))\n",
    "        posts=p[0].split(' ')[-1]\n",
    "\n",
    "        #get current page URL\n",
    "        url = driver.current_url\n",
    "\n",
    "        #get date posted\n",
    "        date_raw = driver.find_element_by_xpath(\"\"\"/html/body/table[2]/tbody/tr/td[1]/div/div[1]/div/div/div/table/tbody/tr[1]/td[1]\"\"\").text\n",
    "\n",
    "        if 'today' in date_raw.lower():\n",
    "            now = datetime.utcnow()\n",
    "            date_raw = datetime.strftime(now, '%Y-%m-%d, %H:%M:%S')\n",
    "\n",
    "        if 'yesterday' in date_raw.lower():\n",
    "            now = datetime.utcnow() - timedelta(days=1)\n",
    "            date_raw = datetime.strftime(now, '%Y-%m-%d, %H:%M:%S')\n",
    "            \n",
    "\n",
    "        #Proceed to next post\n",
    "        driver.find_element_by_xpath(\"\"\"/html/body/div[3]/div/div/div[1]/a\"\"\").click()\n",
    "        # depression.loc[len(depression)]=[name, text, posts, url, date_raw]\n",
    "        sleep(.5)\n",
    "        # print(f'{len(depression)}/{total_posts}',end='\\r')\n",
    "    except Exception as e:\n",
    "        driver.find_element_by_xpath(\"\"\"/html/body/div[3]/div/div/div[1]/a[1]\"\"\").click()\n",
    "        print(f'Skipping url {url} item number {item}')\n",
    "driver.close()\n",
    "# depression"
   ]
  },
  {
   "cell_type": "code",
   "execution_count": null,
   "metadata": {},
   "outputs": [],
   "source": [
    "depression.iloc[-1]['url']"
   ]
  },
  {
   "cell_type": "code",
   "execution_count": null,
   "metadata": {},
   "outputs": [],
   "source": [
    "depression"
   ]
  },
  {
   "cell_type": "code",
   "execution_count": null,
   "metadata": {},
   "outputs": [],
   "source": [
    "depression.to_csv('depression_raw_4.csv',index=None)"
   ]
  },
  {
   "cell_type": "code",
   "execution_count": null,
   "metadata": {},
   "outputs": [],
   "source": [
    "driver.get(\"https://www.takethislife.com/suicide/do-i-have-balls-go-through-290606/\")"
   ]
  },
  {
   "cell_type": "code",
   "execution_count": null,
   "metadata": {},
   "outputs": [],
   "source": [
    "# suicide = pd.DataFrame(columns=[\"username\",\"text\",\"posts\",\"url\",\"date_posted\"])"
   ]
  },
  {
   "cell_type": "code",
   "execution_count": null,
   "metadata": {},
   "outputs": [],
   "source": [
    "suicide = pd.read_csv('suicide_raw_1.csv')"
   ]
  },
  {
   "cell_type": "code",
   "execution_count": null,
   "metadata": {},
   "outputs": [],
   "source": [
    "total_posts = 20 * 453"
   ]
  },
  {
   "cell_type": "code",
   "execution_count": null,
   "metadata": {},
   "outputs": [],
   "source": [
    "len(suicide)"
   ]
  },
  {
   "cell_type": "code",
   "execution_count": null,
   "metadata": {},
   "outputs": [],
   "source": [
    "suicide "
   ]
  },
  {
   "cell_type": "code",
   "execution_count": null,
   "metadata": {},
   "outputs": [],
   "source": []
  },
  {
   "cell_type": "code",
   "execution_count": null,
   "metadata": {},
   "outputs": [],
   "source": [
    "driver.get(suicide.iloc[-1]['url'])\n",
    "for item in range(1,total_posts-len(suicide)):\n",
    "# for item in range(1,100):\n",
    "    try:\n",
    "        #get full page HTML\n",
    "        html = driver.page_source\n",
    "\n",
    "        #parse structure using BS\n",
    "        html2=BeautifulSoup(html,'html.parser', from_encoding=\"utf-8\")\n",
    "        htmls.append(html2)\n",
    "\n",
    "        #get initial post from forum\n",
    "        text=html2.find(\"div\", id=re.compile(\"^post_message\")).get_text()\n",
    "\n",
    "        #get username\n",
    "        name=html2.find('a',class_='bigusername').get_text()\n",
    "\n",
    "        #get post count section and parse posts\n",
    "        q = html2.find(\"div\", id=\"posts\").get_text()\n",
    "        p = re.search('Posts: (\\d+)',q.replace(',',''))\n",
    "        posts=p[0].split(' ')[-1]\n",
    "\n",
    "        #get current page URL\n",
    "        url = driver.current_url\n",
    "\n",
    "        #get date posted\n",
    "        date_raw = driver.find_element_by_xpath(\"\"\"/html/body/table[2]/tbody/tr/td[1]/div/div[1]/div/div/div/table/tbody/tr[1]/td[1]\"\"\").text\n",
    "\n",
    "        if 'today' in date_raw.lower():\n",
    "            now = datetime.utcnow()\n",
    "            date_raw = datetime.strftime(now, '%Y-%m-%d, %H:%M:%S')\n",
    "\n",
    "        if 'yesterday' in date_raw.lower():\n",
    "            now = datetime.utcnow() - timedelta(days=1)\n",
    "            date_raw = datetime.strftime(now, '%Y-%m-%d, %H:%M:%S')\n",
    "            \n",
    "\n",
    "        #Proceed to next post\n",
    "        driver.find_element_by_xpath(\"\"\"/html/body/div[3]/div/div/div[1]/a\"\"\").click()\n",
    "        suicide.loc[len(suicide)]=[name, text, posts, url, date_raw]\n",
    "        sleep(.5)\n",
    "        print(f'{len(suicide)}/{total_posts}',end='\\r')\n",
    "    except Exception as e:\n",
    "        driver.find_element_by_xpath(\"\"\"/html/body/div[3]/div/div/div[1]/a[1]\"\"\").click()\n",
    "        suicide.loc[len(suicide)]=[name, text, posts, url, date_raw]\n",
    "        sleep(.5)\n",
    "        print(f'{len(suicide)}/{total_posts}',end='\\r')\n",
    "        \n",
    "driver.close()\n",
    "suicide"
   ]
  },
  {
   "cell_type": "code",
   "execution_count": null,
   "metadata": {},
   "outputs": [],
   "source": [
    "suicide"
   ]
  },
  {
   "cell_type": "code",
   "execution_count": null,
   "metadata": {},
   "outputs": [],
   "source": [
    "suicide.to_csv('suicide_raw_3.csv',index=None)"
   ]
  }
 ],
 "metadata": {
  "kernelspec": {
   "display_name": "Python 3.9.7 ('final_project_venv': venv)",
   "language": "python",
   "name": "python3"
  },
  "language_info": {
   "codemirror_mode": {
    "name": "ipython",
    "version": 3
   },
   "file_extension": ".py",
   "mimetype": "text/x-python",
   "name": "python",
   "nbconvert_exporter": "python",
   "pygments_lexer": "ipython3",
   "version": "3.9.7"
  },
  "orig_nbformat": 4,
  "vscode": {
   "interpreter": {
    "hash": "201a26f47ffd5fe054d36b8c9ecc5db00f385bb95bd85cb1352168bc60eb9a82"
   }
  }
 },
 "nbformat": 4,
 "nbformat_minor": 2
}
